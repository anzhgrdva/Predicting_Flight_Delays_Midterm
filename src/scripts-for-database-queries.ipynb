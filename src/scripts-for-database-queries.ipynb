{
 "cells": [
  {
   "cell_type": "markdown",
   "metadata": {},
   "source": [
    "# Codes for getting data from database\n",
    "[]()"
   ]
  },
  {
   "cell_type": "code",
   "execution_count": 7,
   "metadata": {},
   "outputs": [],
   "source": [
    "import psycopg2\n",
    "import pandas as pd"
   ]
  },
  {
   "cell_type": "code",
   "execution_count": 8,
   "metadata": {},
   "outputs": [],
   "source": [
    "\n",
    "def execute_query(query_string, return_pandas=True, limit=50):\n",
    "    \"\"\"\n",
    "    Create a function to execute queries.\n",
    "    limit  (int): Maximum number of rows to return. Default is 50.\n",
    "    \"\"\"\n",
    "    con = psycopg2.connect(database='mid_term_project', user='lhl_student', password='lhl_student',\n",
    "        host='lhl-data-bootcamp.crzjul5qln0e.ca-central-1.rds.amazonaws.com', port='5432')\n",
    "    cur = con.cursor()\n",
    "\n",
    "    if limit:\n",
    "        query_string+=' LIMIT '+str(limit)\n",
    "        print(query_string)\n",
    "    if return_pandas:\n",
    "        response = pd.read_sql_query(query_string, con)\n",
    "    else:\n",
    "        cur.execute(query_string)\n",
    "        response = cur.fetchall()\n",
    "    con.close()\n",
    "    return response\n"
   ]
  },
  {
   "cell_type": "code",
   "execution_count": null,
   "metadata": {},
   "outputs": [],
   "source": [
    "# Retrieve select columns from passengers table\n",
    "query = \"\"\"\n",
    "SELECT airline_id,\n",
    "unique_carrier,\n",
    "departures_performed,\n",
    " payload,\n",
    " seats,\n",
    " passengers,\n",
    " freight,\n",
    " mail,\n",
    " distance,\n",
    " air_time,\n",
    "region,\n",
    "carrier_group_new,\n",
    " origin_airport_id,\n",
    " origin_city_market_id,\n",
    " origin_city_name,\n",
    " origin_country_name,\n",
    " dest_airport_id,\n",
    " dest_city_market_id,\n",
    " dest_city_name,\n",
    " dest_country_name,\n",
    " aircraft_group,\n",
    " aircraft_type,\n",
    " aircraft_config,\n",
    " year,\n",
    " month,\n",
    "class \n",
    " FROM passengers\n",
    "\"\"\"\n",
    "passengers = execute_query(query,limit=None)"
   ]
  },
  {
   "cell_type": "code",
   "execution_count": 9,
   "metadata": {},
   "outputs": [
    {
     "name": "stdout",
     "output_type": "stream",
     "text": [
      "\n",
      "SELECT mkt_carrier,\n",
      "mkt_carrier_fl_num,\n",
      "fl_date,\n",
      "branded_code_share,\n",
      "op_unique_carrier,\n",
      "op_carrier_fl_num,\n",
      "origin_airport_id,\n",
      "origin_city_name,\n",
      "dest_airport_id,\n",
      "dest_city_name,\n",
      "crs_dep_time,\n",
      "dep_time,\n",
      "dep_delay,\n",
      "taxi_out,\n",
      "taxi_in,\n",
      "crs_arr_time,\n",
      "arr_time,\n",
      "arr_delay,\n",
      "cancelled,\n",
      "cancellation_code,\n",
      "diverted,\n",
      "crs_elapsed_time,\n",
      "actual_elapsed_time,\n",
      "air_time,\n",
      "distance,\n",
      "carrier_delay,\n",
      "weather_delay,\n",
      "nas_delay,\n",
      "security_delay,\n",
      "late_aircraft_delay,\n",
      "first_dep_time,\n",
      "total_add_gtime,\n",
      "longest_add_gtime\n",
      "    FROM flights\n",
      " LIMIT 600000\n"
     ]
    },
    {
     "name": "stderr",
     "output_type": "stream",
     "text": [
      "/opt/homebrew/Caskroom/miniforge/base/envs/new_env/lib/python3.9/site-packages/pandas/io/sql.py:761: UserWarning: pandas only support SQLAlchemy connectable(engine/connection) ordatabase string URI or sqlite3 DBAPI2 connectionother DBAPI2 objects are not tested, please consider using SQLAlchemy\n",
      "  warnings.warn(\n"
     ]
    }
   ],
   "source": [
    "# Retrieve select columns from flights table\n",
    "query = \"\"\"\n",
    "SELECT mkt_carrier,\n",
    "mkt_carrier_fl_num,\n",
    "fl_date,\n",
    "branded_code_share,\n",
    "op_unique_carrier,\n",
    "op_carrier_fl_num,\n",
    "origin_airport_id,\n",
    "origin_city_name,\n",
    "dest_airport_id,\n",
    "dest_city_name,\n",
    "crs_dep_time,\n",
    "dep_time,\n",
    "dep_delay,\n",
    "taxi_out,\n",
    "taxi_in,\n",
    "crs_arr_time,\n",
    "arr_time,\n",
    "arr_delay,\n",
    "cancelled,\n",
    "cancellation_code,\n",
    "diverted,\n",
    "crs_elapsed_time,\n",
    "actual_elapsed_time,\n",
    "air_time,\n",
    "distance,\n",
    "carrier_delay,\n",
    "weather_delay,\n",
    "nas_delay,\n",
    "security_delay,\n",
    "late_aircraft_delay,\n",
    "first_dep_time,\n",
    "total_add_gtime,\n",
    "longest_add_gtime\n",
    "    FROM flights\n",
    "\"\"\"\n",
    "flights_600k = execute_query(query,limit=600000)"
   ]
  },
  {
   "cell_type": "code",
   "execution_count": 10,
   "metadata": {},
   "outputs": [
    {
     "data": {
      "text/plain": [
       "(600000, 33)"
      ]
     },
     "execution_count": 10,
     "metadata": {},
     "output_type": "execute_result"
    }
   ],
   "source": [
    "flights_600k.shape"
   ]
  },
  {
   "cell_type": "code",
   "execution_count": null,
   "metadata": {},
   "outputs": [],
   "source": []
  },
  {
   "cell_type": "code",
   "execution_count": null,
   "metadata": {},
   "outputs": [],
   "source": []
  },
  {
   "cell_type": "code",
   "execution_count": null,
   "metadata": {},
   "outputs": [],
   "source": []
  },
  {
   "cell_type": "code",
   "execution_count": null,
   "metadata": {},
   "outputs": [],
   "source": []
  },
  {
   "cell_type": "code",
   "execution_count": null,
   "metadata": {},
   "outputs": [],
   "source": []
  },
  {
   "cell_type": "code",
   "execution_count": null,
   "metadata": {},
   "outputs": [],
   "source": []
  },
  {
   "cell_type": "code",
   "execution_count": null,
   "metadata": {},
   "outputs": [],
   "source": []
  },
  {
   "cell_type": "code",
   "execution_count": null,
   "metadata": {},
   "outputs": [],
   "source": []
  },
  {
   "cell_type": "code",
   "execution_count": null,
   "metadata": {},
   "outputs": [],
   "source": []
  },
  {
   "cell_type": "code",
   "execution_count": null,
   "metadata": {},
   "outputs": [],
   "source": []
  },
  {
   "cell_type": "code",
   "execution_count": null,
   "metadata": {},
   "outputs": [],
   "source": []
  },
  {
   "cell_type": "code",
   "execution_count": null,
   "metadata": {},
   "outputs": [],
   "source": []
  },
  {
   "cell_type": "code",
   "execution_count": null,
   "metadata": {},
   "outputs": [],
   "source": []
  },
  {
   "cell_type": "code",
   "execution_count": null,
   "metadata": {},
   "outputs": [],
   "source": []
  },
  {
   "cell_type": "code",
   "execution_count": null,
   "metadata": {},
   "outputs": [],
   "source": []
  },
  {
   "cell_type": "code",
   "execution_count": null,
   "metadata": {},
   "outputs": [],
   "source": []
  },
  {
   "cell_type": "code",
   "execution_count": null,
   "metadata": {},
   "outputs": [],
   "source": []
  },
  {
   "cell_type": "code",
   "execution_count": null,
   "metadata": {},
   "outputs": [],
   "source": []
  },
  {
   "cell_type": "code",
   "execution_count": null,
   "metadata": {},
   "outputs": [],
   "source": []
  }
 ],
 "metadata": {
  "kernelspec": {
   "display_name": "Python 3.9.13 ('new_env')",
   "language": "python",
   "name": "python3"
  },
  "language_info": {
   "codemirror_mode": {
    "name": "ipython",
    "version": 3
   },
   "file_extension": ".py",
   "mimetype": "text/x-python",
   "name": "python",
   "nbconvert_exporter": "python",
   "pygments_lexer": "ipython3",
   "version": "3.9.13"
  },
  "orig_nbformat": 4,
  "vscode": {
   "interpreter": {
    "hash": "3c229a7bb837f7622ff6522438b225aa15e7a80f2ac0a1c0d5851fa7ebe2f25d"
   }
  }
 },
 "nbformat": 4,
 "nbformat_minor": 2
}
