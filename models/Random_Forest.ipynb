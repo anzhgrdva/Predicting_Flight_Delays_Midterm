{
 "cells": [
  {
   "cell_type": "code",
   "execution_count": 1,
   "metadata": {},
   "outputs": [],
   "source": [
    "%matplotlib inline\n",
    "\n",
    "import pandas as pd\n",
    "import numpy as np\n",
    "import matplotlib.pyplot as plt\n",
    "import seaborn as sns\n",
    "import datetime\n",
    "import pickle\n",
    "import sklearn.model_selection as model_selection\n",
    "from sklearn.ensemble import RandomForestRegressor\n",
    "from sklearn.model_selection import train_test_split\n",
    "from sklearn.metrics import mean_absolute_error\n",
    "from sklearn.metrics import r2_score\n",
    "from sklearn.model_selection import RandomizedSearchCV\n",
    "from sklearn.model_selection import GridSearchCV\n",
    "from sklearn.linear_model import LinearRegression\n",
    "from sklearn.metrics import mean_absolute_error\n",
    "from sklearn.metrics import r2_score"
   ]
  },
  {
   "cell_type": "code",
   "execution_count": 10,
   "metadata": {},
   "outputs": [],
   "source": [
    "# import warnings\n",
    "# warnings.filterwarnings('ignore')"
   ]
  },
  {
   "cell_type": "code",
   "execution_count": 5,
   "metadata": {},
   "outputs": [],
   "source": [
    "# Read from extracted data\n",
    "data = pd.read_csv('../data/flights_cleaned_no_outliers_2022-10-26_1451.csv')"
   ]
  },
  {
   "cell_type": "code",
   "execution_count": 6,
   "metadata": {},
   "outputs": [],
   "source": [
    "# Take copy to measure data loss after clean-up\n",
    "model_rf = data.copy()"
   ]
  },
  {
   "cell_type": "code",
   "execution_count": 9,
   "metadata": {},
   "outputs": [],
   "source": [
    "model_rf = model_rf.drop(columns=['mkt_carrier_fl_num', 'op_carrier_fl_num', 'dest_airport_id'])"
   ]
  },
  {
   "cell_type": "markdown",
   "metadata": {},
   "source": [
    "#### Model"
   ]
  },
  {
   "cell_type": "code",
   "execution_count": 10,
   "metadata": {},
   "outputs": [],
   "source": [
    "# Assign train and target variables\n",
    "## Add columns to X\n",
    "X = model_rf.drop('arr_delay', axis = 1)   # features\n",
    "y = model_rf['arr_delay']    # labels\n",
    "\n",
    "X_train,X_test,y_train,y_test = model_selection.train_test_split(X, y, train_size = 0.75, test_size = 0.25, random_state = 42)"
   ]
  },
  {
   "cell_type": "code",
   "execution_count": 11,
   "metadata": {},
   "outputs": [
    {
     "data": {
      "text/html": [
       "<div>\n",
       "<style scoped>\n",
       "    .dataframe tbody tr th:only-of-type {\n",
       "        vertical-align: middle;\n",
       "    }\n",
       "\n",
       "    .dataframe tbody tr th {\n",
       "        vertical-align: top;\n",
       "    }\n",
       "\n",
       "    .dataframe thead th {\n",
       "        text-align: right;\n",
       "    }\n",
       "</style>\n",
       "<table border=\"1\" class=\"dataframe\">\n",
       "  <thead>\n",
       "    <tr style=\"text-align: right;\">\n",
       "      <th></th>\n",
       "      <th>origin_airport_id</th>\n",
       "      <th>dep_delay</th>\n",
       "      <th>arr_delay</th>\n",
       "      <th>crs_dep_time</th>\n",
       "      <th>crs_arr_time</th>\n",
       "      <th>crs_elapsed_time</th>\n",
       "      <th>actual_elapsed_time</th>\n",
       "      <th>air_time</th>\n",
       "      <th>distance</th>\n",
       "      <th>month</th>\n",
       "      <th>...</th>\n",
       "      <th>day_of_week_Friday</th>\n",
       "      <th>day_of_week_Monday</th>\n",
       "      <th>day_of_week_Saturday</th>\n",
       "      <th>day_of_week_Sunday</th>\n",
       "      <th>day_of_week_Thursday</th>\n",
       "      <th>day_of_week_Tuesday</th>\n",
       "      <th>day_of_week_Wednesday</th>\n",
       "      <th>haul_length_long</th>\n",
       "      <th>haul_length_medium</th>\n",
       "      <th>haul_length_short</th>\n",
       "    </tr>\n",
       "  </thead>\n",
       "  <tbody>\n",
       "    <tr>\n",
       "      <th>0</th>\n",
       "      <td>11057</td>\n",
       "      <td>-3.0</td>\n",
       "      <td>-16.0</td>\n",
       "      <td>2212</td>\n",
       "      <td>2341</td>\n",
       "      <td>89</td>\n",
       "      <td>76.0</td>\n",
       "      <td>57.0</td>\n",
       "      <td>370</td>\n",
       "      <td>3</td>\n",
       "      <td>...</td>\n",
       "      <td>1</td>\n",
       "      <td>0</td>\n",
       "      <td>0</td>\n",
       "      <td>0</td>\n",
       "      <td>0</td>\n",
       "      <td>0</td>\n",
       "      <td>0</td>\n",
       "      <td>0</td>\n",
       "      <td>0</td>\n",
       "      <td>1</td>\n",
       "    </tr>\n",
       "    <tr>\n",
       "      <th>1</th>\n",
       "      <td>11057</td>\n",
       "      <td>-7.0</td>\n",
       "      <td>3.0</td>\n",
       "      <td>2240</td>\n",
       "      <td>2353</td>\n",
       "      <td>73</td>\n",
       "      <td>83.0</td>\n",
       "      <td>45.0</td>\n",
       "      <td>241</td>\n",
       "      <td>3</td>\n",
       "      <td>...</td>\n",
       "      <td>1</td>\n",
       "      <td>0</td>\n",
       "      <td>0</td>\n",
       "      <td>0</td>\n",
       "      <td>0</td>\n",
       "      <td>0</td>\n",
       "      <td>0</td>\n",
       "      <td>0</td>\n",
       "      <td>0</td>\n",
       "      <td>1</td>\n",
       "    </tr>\n",
       "    <tr>\n",
       "      <th>2</th>\n",
       "      <td>11057</td>\n",
       "      <td>8.0</td>\n",
       "      <td>10.0</td>\n",
       "      <td>1613</td>\n",
       "      <td>1713</td>\n",
       "      <td>60</td>\n",
       "      <td>62.0</td>\n",
       "      <td>34.0</td>\n",
       "      <td>191</td>\n",
       "      <td>3</td>\n",
       "      <td>...</td>\n",
       "      <td>1</td>\n",
       "      <td>0</td>\n",
       "      <td>0</td>\n",
       "      <td>0</td>\n",
       "      <td>0</td>\n",
       "      <td>0</td>\n",
       "      <td>0</td>\n",
       "      <td>0</td>\n",
       "      <td>0</td>\n",
       "      <td>1</td>\n",
       "    </tr>\n",
       "  </tbody>\n",
       "</table>\n",
       "<p>3 rows × 48 columns</p>\n",
       "</div>"
      ],
      "text/plain": [
       "   origin_airport_id  dep_delay  arr_delay  crs_dep_time  crs_arr_time  \\\n",
       "0              11057       -3.0      -16.0          2212          2341   \n",
       "1              11057       -7.0        3.0          2240          2353   \n",
       "2              11057        8.0       10.0          1613          1713   \n",
       "\n",
       "   crs_elapsed_time  actual_elapsed_time  air_time  distance  month  ...  \\\n",
       "0                89                 76.0      57.0       370      3  ...   \n",
       "1                73                 83.0      45.0       241      3  ...   \n",
       "2                60                 62.0      34.0       191      3  ...   \n",
       "\n",
       "   day_of_week_Friday  day_of_week_Monday  day_of_week_Saturday  \\\n",
       "0                   1                   0                     0   \n",
       "1                   1                   0                     0   \n",
       "2                   1                   0                     0   \n",
       "\n",
       "   day_of_week_Sunday  day_of_week_Thursday  day_of_week_Tuesday  \\\n",
       "0                   0                     0                    0   \n",
       "1                   0                     0                    0   \n",
       "2                   0                     0                    0   \n",
       "\n",
       "   day_of_week_Wednesday  haul_length_long  haul_length_medium  \\\n",
       "0                      0                 0                   0   \n",
       "1                      0                 0                   0   \n",
       "2                      0                 0                   0   \n",
       "\n",
       "   haul_length_short  \n",
       "0                  1  \n",
       "1                  1  \n",
       "2                  1  \n",
       "\n",
       "[3 rows x 48 columns]"
      ]
     },
     "metadata": {},
     "output_type": "display_data"
    },
    {
     "data": {
      "text/plain": [
       "(563880, 48)"
      ]
     },
     "metadata": {},
     "output_type": "display_data"
    }
   ],
   "source": [
    "display(model_rf.head(3))\n",
    "display(model_rf.shape)"
   ]
  },
  {
   "cell_type": "code",
   "execution_count": 14,
   "metadata": {},
   "outputs": [],
   "source": [
    "# Create a Gaussian Classifier\n",
    "rf = RandomForestRegressor(n_estimators = 300, max_features = 'sqrt', max_depth = 5, random_state = 18)"
   ]
  },
  {
   "cell_type": "code",
   "execution_count": 15,
   "metadata": {},
   "outputs": [
    {
     "data": {
      "text/plain": [
       "RandomForestRegressor(max_depth=5, max_features='sqrt', n_estimators=300,\n",
       "                      random_state=18)"
      ]
     },
     "execution_count": 15,
     "metadata": {},
     "output_type": "execute_result"
    }
   ],
   "source": [
    "# Train the model using the training sets y_pred=clf.predict(X_test)\n",
    "rf.fit(X_train, y_train)"
   ]
  },
  {
   "cell_type": "code",
   "execution_count": null,
   "metadata": {},
   "outputs": [],
   "source": [
    "# # Save the model\n",
    "# filename = 'Random_Forest.sav'\n",
    "# pickle.dump(model,open(filename, 'wb'))"
   ]
  },
  {
   "cell_type": "code",
   "execution_count": 16,
   "metadata": {},
   "outputs": [],
   "source": [
    "y_pred = rf.predict(X_test)"
   ]
  },
  {
   "cell_type": "code",
   "execution_count": 17,
   "metadata": {},
   "outputs": [],
   "source": [
    "# Calculate the absolute errors\n",
    "errors = abs(y_pred - y_test)"
   ]
  },
  {
   "cell_type": "code",
   "execution_count": 18,
   "metadata": {},
   "outputs": [
    {
     "name": "stdout",
     "output_type": "stream",
     "text": [
      "Mean Absolute Error: 10.77 degrees.\n"
     ]
    }
   ],
   "source": [
    "# Print out the mean absolute error (mae)\n",
    "print('Mean Absolute Error:', round(np.mean(errors), 2), 'degrees.')"
   ]
  },
  {
   "cell_type": "code",
   "execution_count": 19,
   "metadata": {},
   "outputs": [],
   "source": [
    "# Calculate mean absolute percentage error (MAPE)\n",
    "mape = 100 * (errors / y_test)"
   ]
  },
  {
   "cell_type": "code",
   "execution_count": 20,
   "metadata": {},
   "outputs": [
    {
     "name": "stdout",
     "output_type": "stream",
     "text": [
      "Accuracy: -inf %.\n"
     ]
    }
   ],
   "source": [
    "# Calculate and display accuracy\n",
    "accuracy = 100 - np.mean(mape)\n",
    "print('Accuracy:', round(accuracy, 2), '%.')"
   ]
  },
  {
   "cell_type": "code",
   "execution_count": 22,
   "metadata": {},
   "outputs": [
    {
     "name": "stdout",
     "output_type": "stream",
     "text": [
      "R2 Score for train data: 0.379\n",
      "R2 Score2 for test data: 0.377\n",
      "MAE Score for test data:  10.77\n"
     ]
    },
    {
     "data": {
      "image/png": "[encoded data removed]",
      "text/plain": [
       "<Figure size 432x288 with 1 Axes>"
      ]
     },
     "metadata": {
      "needs_background": "light"
     },
     "output_type": "display_data"
    }
   ],
   "source": [
    "# Print the R2 score for the test dataset\n",
    "print('R2 Score for train data:', round(rf.score(X_train,y_train),3))\n",
    "print('R2 Score2 for test data:', round(r2_score(y_test,y_pred),3))\n",
    "print('MAE Score for test data: ', round(mean_absolute_error(y_test,y_pred),2))\n",
    "\n",
    "df = pd.DataFrame(\n",
    "        {\n",
    "            'arr_delay':y_test,\n",
    "            'predicted':y_pred\n",
    "        }\n",
    ")\n",
    "df\n",
    "\n",
    "sns.regplot(x='predicted',y='arr_delay',data=df,label='R2:'+ str(round(r2_score(y_test,y_pred),3)))\n",
    "plt.legend(loc=0)\n",
    "plt.show()"
   ]
  },
  {
   "cell_type": "markdown",
   "metadata": {},
   "source": [
    "#### DRAFT"
   ]
  },
  {
   "cell_type": "markdown",
   "metadata": {},
   "source": [
    "#### Random Forest Grid Search"
   ]
  },
  {
   "cell_type": "code",
   "execution_count": null,
   "metadata": {},
   "outputs": [],
   "source": [
    "# Define hyperparameters we want to tune\n",
    "param_grid = {\n",
    "    'n_estimators' : [10, 20, 100, 200, 300],\n",
    "    'max_features': ['sqrt', 'log2'],\n",
    "    'max_depth' : [5,8,10,12,15]\n",
    "}\n",
    "\n",
    "# Instantiate GridSearchCV, fit model, and make prediction\n",
    "model = GridSearchCV(RandomForestRegressor(), param_grid = param_grid, cv = 5)\n",
    "model.fit(X_train, y_train)\n",
    "y_pred = model.predict(X_test)\n",
    "\n",
    "df = pd.DataFrame(model.cv_results_)"
   ]
  },
  {
   "cell_type": "code",
   "execution_count": null,
   "metadata": {},
   "outputs": [],
   "source": [
    "display(model.best_params_)\n",
    "display(model.best_score_)\n",
    "\n",
    "df.sort_values('rank_test_score', ascending = True).head(3)"
   ]
  }
 ],
 "metadata": {
  "kernelspec": {
   "display_name": "Python 3.9.13 ('new_env')",
   "language": "python",
   "name": "python3"
  },
  "language_info": {
   "codemirror_mode": {
    "name": "ipython",
    "version": 3
   },
   "file_extension": ".py",
   "mimetype": "text/x-python",
   "name": "python",
   "nbconvert_exporter": "python",
   "pygments_lexer": "ipython3",
   "version": "3.9.13"
  },
  "orig_nbformat": 4,
  "vscode": {
   "interpreter": {
    "hash": "3c229a7bb837f7622ff6522438b225aa15e7a80f2ac0a1c0d5851fa7ebe2f25d"
   }
  }
 },
 "nbformat": 4,
 "nbformat_minor": 2
}
