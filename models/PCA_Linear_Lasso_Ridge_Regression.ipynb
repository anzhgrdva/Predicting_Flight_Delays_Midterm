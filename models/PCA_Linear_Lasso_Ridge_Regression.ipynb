{
 "cells": [
  {
   "cell_type": "code",
   "execution_count": 112,
   "metadata": {},
   "outputs": [],
   "source": [
    "# import os\n",
    "# # os.chdir('..')\n",
    "# import supervised \n",
    "# from supervised import *"
   ]
  },
  {
   "cell_type": "code",
   "execution_count": 113,
   "metadata": {},
   "outputs": [],
   "source": [
    "import pandas as pd\n",
    "import numpy as np\n",
    "import matplotlib.pyplot as plt\n",
    "\n",
    "from sklearn.linear_model import LinearRegression, Ridge, RidgeCV, Lasso, LassoCV\n",
    "from sklearn.model_selection import KFold, cross_val_score, train_test_split\n",
    "from sklearn.preprocessing import StandardScaler\n",
    "\n",
    "from sklearn.decomposition import PCA\n",
    "\n",
    "import pickle"
   ]
  },
  {
   "cell_type": "code",
   "execution_count": 114,
   "metadata": {},
   "outputs": [],
   "source": [
    "# Read from extracted data\n",
    "data = pd.read_csv('/Users/ava_mac/Documents/Coding/LHL/W6/Predicting_Flight_Delays_Midterm/data/flights_modeling_2022-10-26_2322.csv')"
   ]
  },
  {
   "cell_type": "code",
   "execution_count": 115,
   "metadata": {},
   "outputs": [],
   "source": [
    "df = data.copy()"
   ]
  },
  {
   "cell_type": "code",
   "execution_count": 116,
   "metadata": {},
   "outputs": [],
   "source": [
    "# Create list with the columns to be scaled.\n",
    "numeric_cols = [\n",
    "       'air_time', 'arr_delay', \n",
    "       'crs_elapsed_time',\n",
    "       'distance', 'mean_dep_delay_carrier_origin_month',\n",
    "       'mean_arr_delay_carrier_origin_month',\n",
    "       'mean_dep_delay_carrier_origin_week',\n",
    "       'mean_arr_delay_carrier_origin_week',\n",
    "       'mean_dep_delay_carrier_origin_date',\n",
    "       'mean_arr_delay_carrier_origin_date',\n",
    "       'mean_dep_delay_carrier_origin_date_t-1_week',\n",
    "       'mean_arr_delay_carrier_origin_date_t-1_week',\n",
    "       'mean_dep_delay_carrier_origin_date_t-1_week_week_number',\n",
    "       'mean_arr_delay_carrier_origin_date_t-1_week_week_number'\n",
    "       ]\n",
    "\n",
    "# Create a list with the dummy/categorical variables:\n",
    "cat_cols = [\n",
    "       'origin_region_Midwest', 'origin_region_Northeast',\n",
    "       'origin_region_South', 'origin_region_West', 'dest_region_Midwest',\n",
    "       'dest_region_Northeast', 'dest_region_South', 'dest_region_West',\n",
    "       'arr_hrs_ctg_Afternoon', 'arr_hrs_ctg_Evening', 'arr_hrs_ctg_Morning',\n",
    "       'arr_hrs_ctg_Night', 'dep_hrs_ctg_Afternoon', 'dep_hrs_ctg_Evening',\n",
    "       'dep_hrs_ctg_Morning', 'dep_hrs_ctg_Night',\n",
    "       'day_of_week_Friday',\n",
    "       'day_of_week_Monday', 'day_of_week_Saturday', 'day_of_week_Sunday',\n",
    "       'day_of_week_Thursday', 'day_of_week_Tuesday', 'day_of_week_Wednesday',\n",
    "       'haul_length_long', 'haul_length_medium', 'haul_length_short', 'cluster_km'\n",
    "       ]"
   ]
  },
  {
   "cell_type": "code",
   "execution_count": 117,
   "metadata": {},
   "outputs": [],
   "source": [
    "# 2022-10-27 8:57 Here is the function to scale the data. Please read the function documentation. \n",
    "# This function has been saved to the midterm_functions.py file.\n",
    "def scale_data(df, numeric_cols, cat_cols):\n",
    "    \"\"\"\n",
    "    - Perform standardization (StandardScaler) on the numeric_cols of the dataframe. \n",
    "    - combines both numeric and categorical back to the entire feature dataframe.\n",
    "\n",
    "    Params:\n",
    "    - df: Dataframe object with both feature and target data. \n",
    "    - numeric_cols: Name of the numeric columns to be scaled.\n",
    "    - cat_cols: Name of the categorical columns (dummy variables) NOT to be scaled.\n",
    "\n",
    "    Returns: Dataframe with numeric data scaled and categorical data as-is.\n",
    "\n",
    "    \"\"\"\n",
    "    # Create the scaler based on the training dataset\n",
    "    scaler = StandardScaler()\n",
    "    scaler.fit(df[numeric_cols])\n",
    "    X_numeric_scaled = scaler.transform(df[numeric_cols])\n",
    "    X_categorical = df[cat_cols].to_numpy()\n",
    "    X = pd.DataFrame(np.hstack((X_categorical, X_numeric_scaled)), columns=cat_cols + numeric_cols)\n",
    "    return X"
   ]
  },
  {
   "cell_type": "code",
   "execution_count": 118,
   "metadata": {},
   "outputs": [],
   "source": [
    "# Call the function:\n",
    "df_scaled = scale_data(df, numeric_cols, cat_cols)"
   ]
  },
  {
   "cell_type": "code",
   "execution_count": 119,
   "metadata": {},
   "outputs": [],
   "source": [
    "X = df_scaled.drop('arr_delay', axis = 1)   # features\n",
    "y = df_scaled['arr_delay']    # labels"
   ]
  },
  {
   "cell_type": "code",
   "execution_count": 120,
   "metadata": {},
   "outputs": [],
   "source": [
    "X_train_scaled, X_test_scaled, y_train, y_test = train_test_split(X, y, test_size=0.2, random_state=42)"
   ]
  },
  {
   "cell_type": "code",
   "execution_count": 121,
   "metadata": {},
   "outputs": [],
   "source": [
    "from sklearn.metrics import mean_squared_error\n",
    "\n",
    "# Define cross-validation folds\n",
    "cv = KFold(n_splits=10, shuffle=True, random_state=42)"
   ]
  },
  {
   "cell_type": "markdown",
   "metadata": {},
   "source": [
    "#### 1. Linear Regression (no regularization)"
   ]
  },
  {
   "cell_type": "code",
   "execution_count": 122,
   "metadata": {},
   "outputs": [
    {
     "data": {
      "text/plain": [
       "0.1456344692264424"
      ]
     },
     "execution_count": 122,
     "metadata": {},
     "output_type": "execute_result"
    }
   ],
   "source": [
    "# Linear Regression\n",
    "lin_reg = LinearRegression().fit(X_train_scaled, y_train)\n",
    "\n",
    "# Get R2 score\n",
    "lin_reg.score(X_train_scaled, y_train)"
   ]
  },
  {
   "cell_type": "code",
   "execution_count": 123,
   "metadata": {},
   "outputs": [
    {
     "data": {
      "text/plain": [
       "array([0.92494459, 0.91421967, 0.93001986, 0.92979932, 0.93251357,\n",
       "       0.91596022, 0.91829553, 0.92255347, 0.92629874, 0.92633113])"
      ]
     },
     "execution_count": 123,
     "metadata": {},
     "output_type": "execute_result"
    }
   ],
   "source": [
    "# lr_scores = -1 * cross_val_score(lin_reg, \n",
    "#                                  X_train_scaled, \n",
    "#                                  y_train, \n",
    "#                                  cv=cv, \n",
    "#                                  scoring='neg_root_mean_squared_error')\n",
    "\n",
    "lr_scores = -1 * cross_val_score(lin_reg, X_train_scaled, y_train, cv=cv, scoring='neg_root_mean_squared_error')\n",
    "lr_scores"
   ]
  },
  {
   "cell_type": "code",
   "execution_count": 124,
   "metadata": {},
   "outputs": [
    {
     "data": {
      "text/plain": [
       "0.9240936094418831"
      ]
     },
     "execution_count": 124,
     "metadata": {},
     "output_type": "execute_result"
    }
   ],
   "source": [
    "lr_score_train = np.mean(lr_scores)\n",
    "lr_score_train"
   ]
  },
  {
   "cell_type": "markdown",
   "metadata": {},
   "source": [
    "Predict"
   ]
  },
  {
   "cell_type": "code",
   "execution_count": 125,
   "metadata": {},
   "outputs": [
    {
     "data": {
      "text/plain": [
       "0.9258229959625243"
      ]
     },
     "execution_count": 125,
     "metadata": {},
     "output_type": "execute_result"
    }
   ],
   "source": [
    "y_predicted = lin_reg.predict(X_test_scaled)\n",
    "lr_score_test = mean_squared_error(y_test, y_predicted, squared=False) # RMSE instead of MSE\n",
    "lr_score_test"
   ]
  },
  {
   "cell_type": "markdown",
   "metadata": {},
   "source": [
    "#### 2. Lasso Regression (L1 regularization)"
   ]
  },
  {
   "cell_type": "code",
   "execution_count": 126,
   "metadata": {},
   "outputs": [],
   "source": [
    "lasso_reg = LassoCV().fit(X_train_scaled, y_train)"
   ]
  },
  {
   "cell_type": "code",
   "execution_count": 127,
   "metadata": {},
   "outputs": [
    {
     "data": {
      "text/plain": [
       "0.14562430855252606"
      ]
     },
     "execution_count": 127,
     "metadata": {},
     "output_type": "execute_result"
    }
   ],
   "source": [
    "# Get R2 score\n",
    "lasso_reg.score(X_train_scaled, y_train)"
   ]
  },
  {
   "cell_type": "code",
   "execution_count": 128,
   "metadata": {},
   "outputs": [
    {
     "data": {
      "text/plain": [
       "array([0.92494565, 0.91420357, 0.92996476, 0.92981134, 0.93253021,\n",
       "       0.91594914, 0.91832416, 0.92256915, 0.92631624, 0.92633002])"
      ]
     },
     "execution_count": 128,
     "metadata": {},
     "output_type": "execute_result"
    }
   ],
   "source": [
    "lasso_scores = -1 * cross_val_score(lasso_reg, \n",
    "                                    X_train_scaled, \n",
    "                                    y_train, \n",
    "                                    cv=cv, \n",
    "                                    scoring='neg_root_mean_squared_error')\n",
    "lasso_scores"
   ]
  },
  {
   "cell_type": "code",
   "execution_count": 129,
   "metadata": {},
   "outputs": [
    {
     "data": {
      "text/plain": [
       "0.924094425662297"
      ]
     },
     "execution_count": 129,
     "metadata": {},
     "output_type": "execute_result"
    }
   ],
   "source": [
    "lasso_score_train = np.mean(lasso_scores)\n",
    "lasso_score_train"
   ]
  },
  {
   "cell_type": "markdown",
   "metadata": {},
   "source": [
    "Predict"
   ]
  },
  {
   "cell_type": "code",
   "execution_count": 130,
   "metadata": {},
   "outputs": [
    {
     "data": {
      "text/plain": [
       "0.9258162944239623"
      ]
     },
     "execution_count": 130,
     "metadata": {},
     "output_type": "execute_result"
    }
   ],
   "source": [
    "y_predicted = lasso_reg.predict(X_test_scaled)\n",
    "lasso_score_test = mean_squared_error(y_test, y_predicted, squared=False)\n",
    "lasso_score_test"
   ]
  },
  {
   "cell_type": "markdown",
   "metadata": {},
   "source": [
    "#### 3. Ridge Regression (L2 regularization)"
   ]
  },
  {
   "cell_type": "code",
   "execution_count": 131,
   "metadata": {},
   "outputs": [],
   "source": [
    "ridge_reg = RidgeCV().fit(X_train_scaled, y_train)"
   ]
  },
  {
   "cell_type": "code",
   "execution_count": 132,
   "metadata": {},
   "outputs": [
    {
     "data": {
      "text/plain": [
       "0.1456412804154904"
      ]
     },
     "execution_count": 132,
     "metadata": {},
     "output_type": "execute_result"
    }
   ],
   "source": [
    "# Get R2 score\n",
    "ridge_reg.score(X_train_scaled, y_train)"
   ]
  },
  {
   "cell_type": "code",
   "execution_count": 133,
   "metadata": {},
   "outputs": [
    {
     "data": {
      "text/plain": [
       "array([0.92494914, 0.91420246, 0.92994417, 0.92978134, 0.93253706,\n",
       "       0.91597593, 0.91830645, 0.92256391, 0.92630218, 0.92629983])"
      ]
     },
     "execution_count": 133,
     "metadata": {},
     "output_type": "execute_result"
    }
   ],
   "source": [
    "ridge_scores = -1 * cross_val_score(ridge_reg, \n",
    "                                    X_train_scaled, \n",
    "                                    y_train, \n",
    "                                    cv=cv, \n",
    "                                    scoring='neg_root_mean_squared_error')\n",
    "ridge_scores"
   ]
  },
  {
   "cell_type": "code",
   "execution_count": 134,
   "metadata": {},
   "outputs": [
    {
     "data": {
      "text/plain": [
       "0.9240862465390982"
      ]
     },
     "execution_count": 134,
     "metadata": {},
     "output_type": "execute_result"
    }
   ],
   "source": [
    "ridge_score_train = np.mean(ridge_scores)\n",
    "ridge_score_train"
   ]
  },
  {
   "cell_type": "markdown",
   "metadata": {},
   "source": [
    "Predict"
   ]
  },
  {
   "cell_type": "code",
   "execution_count": 135,
   "metadata": {},
   "outputs": [
    {
     "data": {
      "text/plain": [
       "0.9258152793363162"
      ]
     },
     "execution_count": 135,
     "metadata": {},
     "output_type": "execute_result"
    }
   ],
   "source": [
    "y_predicted = ridge_reg.predict(X_test_scaled)\n",
    "ridge_score_test = mean_squared_error(y_test, y_predicted, squared=False)\n",
    "ridge_score_test"
   ]
  },
  {
   "cell_type": "markdown",
   "metadata": {},
   "source": [
    "#### Principal Components Regression\n",
    "Evaluate for different number of principal components"
   ]
  },
  {
   "cell_type": "code",
   "execution_count": 136,
   "metadata": {},
   "outputs": [],
   "source": [
    "lin_reg = LinearRegression()\n",
    "rmse_list = []"
   ]
  },
  {
   "cell_type": "code",
   "execution_count": 137,
   "metadata": {},
   "outputs": [
    {
     "data": {
      "text/plain": [
       "(451104, 40)"
      ]
     },
     "execution_count": 137,
     "metadata": {},
     "output_type": "execute_result"
    }
   ],
   "source": [
    "# First generate all the principal components\n",
    "pca = PCA()\n",
    "X_train_pc = pca.fit_transform(X_train_scaled)\n",
    "X_train_pc.shape"
   ]
  },
  {
   "cell_type": "code",
   "execution_count": 138,
   "metadata": {},
   "outputs": [
    {
     "data": {
      "text/plain": [
       "array([5.47177995e-01, 1.91775994e-01, 4.17303043e-02, 3.77341884e-02,\n",
       "       2.76897354e-02, 2.09062018e-02, 1.54897794e-02, 1.35587100e-02,\n",
       "       1.07625976e-02, 9.05177471e-03, 8.96369260e-03, 8.83395598e-03,\n",
       "       8.72025961e-03, 8.47823592e-03, 8.34747046e-03, 7.81780014e-03,\n",
       "       7.43038155e-03, 7.07962032e-03, 6.38202009e-03, 5.90779917e-03,\n",
       "       2.20431081e-03, 1.85430366e-03, 7.30759882e-04, 5.62294720e-04,\n",
       "       5.03296595e-04, 3.06518143e-04, 9.42453225e-28, 1.64937228e-28,\n",
       "       5.11044002e-29, 1.84803093e-29, 1.45514783e-29, 1.09466900e-29,\n",
       "       7.12974939e-31, 3.23654552e-31, 2.51179861e-33, 2.51179861e-33,\n",
       "       2.51179861e-33, 2.51179861e-33, 2.51179861e-33, 2.51179861e-33])"
      ]
     },
     "execution_count": 138,
     "metadata": {},
     "output_type": "execute_result"
    }
   ],
   "source": [
    "# View explained variance ratio for each principal component\n",
    "pca.explained_variance_ratio_"
   ]
  },
  {
   "cell_type": "code",
   "execution_count": 139,
   "metadata": {},
   "outputs": [
    {
     "data": {
      "text/html": [
       "<div>\n",
       "<style scoped>\n",
       "    .dataframe tbody tr th:only-of-type {\n",
       "        vertical-align: middle;\n",
       "    }\n",
       "\n",
       "    .dataframe tbody tr th {\n",
       "        vertical-align: top;\n",
       "    }\n",
       "\n",
       "    .dataframe thead th {\n",
       "        text-align: right;\n",
       "    }\n",
       "</style>\n",
       "<table border=\"1\" class=\"dataframe\">\n",
       "  <thead>\n",
       "    <tr style=\"text-align: right;\">\n",
       "      <th></th>\n",
       "      <th>0</th>\n",
       "      <th>1</th>\n",
       "      <th>2</th>\n",
       "      <th>3</th>\n",
       "      <th>4</th>\n",
       "      <th>5</th>\n",
       "      <th>6</th>\n",
       "      <th>7</th>\n",
       "      <th>8</th>\n",
       "      <th>9</th>\n",
       "      <th>...</th>\n",
       "      <th>30</th>\n",
       "      <th>31</th>\n",
       "      <th>32</th>\n",
       "      <th>33</th>\n",
       "      <th>34</th>\n",
       "      <th>35</th>\n",
       "      <th>36</th>\n",
       "      <th>37</th>\n",
       "      <th>38</th>\n",
       "      <th>39</th>\n",
       "    </tr>\n",
       "  </thead>\n",
       "  <tbody>\n",
       "    <tr>\n",
       "      <th>0</th>\n",
       "      <td>-0.002786</td>\n",
       "      <td>-0.018363</td>\n",
       "      <td>-0.049402</td>\n",
       "      <td>-0.024627</td>\n",
       "      <td>0.042700</td>\n",
       "      <td>0.027575</td>\n",
       "      <td>0.451883</td>\n",
       "      <td>-0.394369</td>\n",
       "      <td>-0.059800</td>\n",
       "      <td>-0.070509</td>\n",
       "      <td>...</td>\n",
       "      <td>0.000000e+00</td>\n",
       "      <td>-0.000000e+00</td>\n",
       "      <td>0.000362</td>\n",
       "      <td>0.000000e+00</td>\n",
       "      <td>0.000000e+00</td>\n",
       "      <td>0.000000e+00</td>\n",
       "      <td>0.000000e+00</td>\n",
       "      <td>-0.000000e+00</td>\n",
       "      <td>0.000000e+00</td>\n",
       "      <td>-0.000000e+00</td>\n",
       "    </tr>\n",
       "    <tr>\n",
       "      <th>1</th>\n",
       "      <td>-0.012482</td>\n",
       "      <td>0.016612</td>\n",
       "      <td>-0.108778</td>\n",
       "      <td>-0.038095</td>\n",
       "      <td>-0.006915</td>\n",
       "      <td>0.009388</td>\n",
       "      <td>0.056220</td>\n",
       "      <td>-0.189531</td>\n",
       "      <td>0.004312</td>\n",
       "      <td>0.146211</td>\n",
       "      <td>...</td>\n",
       "      <td>6.593378e-16</td>\n",
       "      <td>-5.021057e-16</td>\n",
       "      <td>0.000362</td>\n",
       "      <td>8.064031e-16</td>\n",
       "      <td>-6.045444e-18</td>\n",
       "      <td>2.112079e-17</td>\n",
       "      <td>8.797262e-18</td>\n",
       "      <td>1.330623e-17</td>\n",
       "      <td>1.551509e-17</td>\n",
       "      <td>-1.451129e-17</td>\n",
       "    </tr>\n",
       "    <tr>\n",
       "      <th>2</th>\n",
       "      <td>0.010701</td>\n",
       "      <td>-0.030081</td>\n",
       "      <td>0.008764</td>\n",
       "      <td>0.009640</td>\n",
       "      <td>-0.519327</td>\n",
       "      <td>-0.056899</td>\n",
       "      <td>-0.157458</td>\n",
       "      <td>0.630959</td>\n",
       "      <td>0.056190</td>\n",
       "      <td>-0.051000</td>\n",
       "      <td>...</td>\n",
       "      <td>6.469371e-15</td>\n",
       "      <td>-6.644098e-16</td>\n",
       "      <td>0.000362</td>\n",
       "      <td>-4.166896e-16</td>\n",
       "      <td>1.453517e-17</td>\n",
       "      <td>5.989472e-18</td>\n",
       "      <td>-3.326153e-18</td>\n",
       "      <td>-2.135952e-17</td>\n",
       "      <td>-2.645095e-17</td>\n",
       "      <td>-1.122235e-17</td>\n",
       "    </tr>\n",
       "    <tr>\n",
       "      <th>3</th>\n",
       "      <td>0.004567</td>\n",
       "      <td>0.031833</td>\n",
       "      <td>0.149416</td>\n",
       "      <td>0.053082</td>\n",
       "      <td>0.483541</td>\n",
       "      <td>0.019937</td>\n",
       "      <td>-0.350646</td>\n",
       "      <td>-0.047059</td>\n",
       "      <td>-0.000702</td>\n",
       "      <td>-0.024701</td>\n",
       "      <td>...</td>\n",
       "      <td>1.431271e-14</td>\n",
       "      <td>-7.417221e-16</td>\n",
       "      <td>0.000362</td>\n",
       "      <td>-4.905280e-16</td>\n",
       "      <td>1.748433e-17</td>\n",
       "      <td>-1.606778e-17</td>\n",
       "      <td>-1.361179e-17</td>\n",
       "      <td>2.836225e-18</td>\n",
       "      <td>2.515882e-17</td>\n",
       "      <td>-4.039541e-18</td>\n",
       "    </tr>\n",
       "    <tr>\n",
       "      <th>4</th>\n",
       "      <td>0.000646</td>\n",
       "      <td>-0.019218</td>\n",
       "      <td>-0.040541</td>\n",
       "      <td>-0.009586</td>\n",
       "      <td>0.035134</td>\n",
       "      <td>0.018656</td>\n",
       "      <td>0.553680</td>\n",
       "      <td>0.130537</td>\n",
       "      <td>-0.039314</td>\n",
       "      <td>-0.106023</td>\n",
       "      <td>...</td>\n",
       "      <td>2.324520e-02</td>\n",
       "      <td>-4.769816e-03</td>\n",
       "      <td>0.000024</td>\n",
       "      <td>9.953146e-05</td>\n",
       "      <td>-6.261651e-17</td>\n",
       "      <td>8.152693e-17</td>\n",
       "      <td>-8.393751e-17</td>\n",
       "      <td>5.358840e-17</td>\n",
       "      <td>2.751802e-17</td>\n",
       "      <td>-2.034899e-17</td>\n",
       "    </tr>\n",
       "  </tbody>\n",
       "</table>\n",
       "<p>5 rows × 40 columns</p>\n",
       "</div>"
      ],
      "text/plain": [
       "         0         1         2         3         4         5         6   \\\n",
       "0 -0.002786 -0.018363 -0.049402 -0.024627  0.042700  0.027575  0.451883   \n",
       "1 -0.012482  0.016612 -0.108778 -0.038095 -0.006915  0.009388  0.056220   \n",
       "2  0.010701 -0.030081  0.008764  0.009640 -0.519327 -0.056899 -0.157458   \n",
       "3  0.004567  0.031833  0.149416  0.053082  0.483541  0.019937 -0.350646   \n",
       "4  0.000646 -0.019218 -0.040541 -0.009586  0.035134  0.018656  0.553680   \n",
       "\n",
       "         7         8         9   ...            30            31        32  \\\n",
       "0 -0.394369 -0.059800 -0.070509  ...  0.000000e+00 -0.000000e+00  0.000362   \n",
       "1 -0.189531  0.004312  0.146211  ...  6.593378e-16 -5.021057e-16  0.000362   \n",
       "2  0.630959  0.056190 -0.051000  ...  6.469371e-15 -6.644098e-16  0.000362   \n",
       "3 -0.047059 -0.000702 -0.024701  ...  1.431271e-14 -7.417221e-16  0.000362   \n",
       "4  0.130537 -0.039314 -0.106023  ...  2.324520e-02 -4.769816e-03  0.000024   \n",
       "\n",
       "             33            34            35            36            37  \\\n",
       "0  0.000000e+00  0.000000e+00  0.000000e+00  0.000000e+00 -0.000000e+00   \n",
       "1  8.064031e-16 -6.045444e-18  2.112079e-17  8.797262e-18  1.330623e-17   \n",
       "2 -4.166896e-16  1.453517e-17  5.989472e-18 -3.326153e-18 -2.135952e-17   \n",
       "3 -4.905280e-16  1.748433e-17 -1.606778e-17 -1.361179e-17  2.836225e-18   \n",
       "4  9.953146e-05 -6.261651e-17  8.152693e-17 -8.393751e-17  5.358840e-17   \n",
       "\n",
       "             38            39  \n",
       "0  0.000000e+00 -0.000000e+00  \n",
       "1  1.551509e-17 -1.451129e-17  \n",
       "2 -2.645095e-17 -1.122235e-17  \n",
       "3  2.515882e-17 -4.039541e-18  \n",
       "4  2.751802e-17 -2.034899e-17  \n",
       "\n",
       "[5 rows x 40 columns]"
      ]
     },
     "execution_count": 139,
     "metadata": {},
     "output_type": "execute_result"
    }
   ],
   "source": [
    "# View first 5 rows of all principal components\n",
    "pd.DataFrame(pca.components_.T).loc[:4,:]"
   ]
  },
  {
   "cell_type": "code",
   "execution_count": 140,
   "metadata": {},
   "outputs": [],
   "source": [
    "# Loop through different count of principal components for linear regression\n",
    "for i in range(1, X_train_pc.shape[1]+1):\n",
    "    rmse_score = -1 * cross_val_score(lin_reg, \n",
    "                                      X_train_pc[:,:i], # Use first k principal components\n",
    "                                      y_train, \n",
    "                                      cv=cv, \n",
    "                                      scoring='neg_root_mean_squared_error').mean()\n",
    "    rmse_list.append(rmse_score)"
   ]
  },
  {
   "cell_type": "code",
   "execution_count": 141,
   "metadata": {},
   "outputs": [
    {
     "data": {
      "text/plain": [
       "[0.9931432634398968,\n",
       " 0.9927451991679386,\n",
       " 0.9906912602144977,\n",
       " 0.9839124339618252,\n",
       " 0.9838216320933837,\n",
       " 0.9838231339467358,\n",
       " 0.9833778984824461,\n",
       " 0.98337283747766,\n",
       " 0.9833119471080515,\n",
       " 0.9832002078369143,\n",
       " 0.9828259790329421,\n",
       " 0.9828218521459723,\n",
       " 0.9828207881866007,\n",
       " 0.9827846161284741,\n",
       " 0.9827743327092195,\n",
       " 0.9826437038441401,\n",
       " 0.9822768673176767,\n",
       " 0.9821920538012698,\n",
       " 0.9821444449156935,\n",
       " 0.9821236445963132,\n",
       " 0.9821069371300457,\n",
       " 0.9813917844396014,\n",
       " 0.9813198043808748,\n",
       " 0.968961375553621,\n",
       " 0.9248715468876634,\n",
       " 0.9240862467814933,\n",
       " 0.9240888826545017,\n",
       " 0.9241216876299554,\n",
       " 0.9241260347858276,\n",
       " 0.924124662659126,\n",
       " 0.9241487481124286,\n",
       " 0.9241389384890605,\n",
       " 0.9241420554140225,\n",
       " 0.9241383494189751,\n",
       " 0.9241381413467792,\n",
       " 0.9241386502227149,\n",
       " 0.9241388510352261,\n",
       " 0.9241392252663537,\n",
       " 0.9241387806136198,\n",
       " 0.9241385366725513]"
      ]
     },
     "execution_count": 141,
     "metadata": {},
     "output_type": "execute_result"
    }
   ],
   "source": [
    "rmse_list"
   ]
  },
  {
   "cell_type": "code",
   "execution_count": 142,
   "metadata": {},
   "outputs": [
    {
     "data": {
      "image/png": "[encoded data removed]",
      "text/plain": [
       "<Figure size 432x288 with 1 Axes>"
      ]
     },
     "metadata": {
      "needs_background": "light"
     },
     "output_type": "display_data"
    }
   ],
   "source": [
    "# Plot RMSE vs count of principal components used\n",
    "plt.plot(rmse_list, '-o')\n",
    "plt.xlabel('Number of principal components in regression')\n",
    "plt.ylabel('Cross-Validation RMSE')\n",
    "plt.title('Wine Quality')\n",
    "plt.xlim(xmin=-1);\n",
    "plt.xticks(np.arange(X_train_pc.shape[1]), np.arange(1, X_train_pc.shape[1]+1))\n",
    "plt.axhline(y=lr_score_train, color='g', linestyle='-');"
   ]
  },
  {
   "cell_type": "markdown",
   "metadata": {},
   "source": [
    "We see that the training set performance of PCR improves (i.e., RMSE decreases) with more principal components, in line with what we expect.\n",
    "\n",
    "The green line is the RMSE benchmark from the baseline standard linear regression model using all original features.\n",
    "\n",
    "The plot shows that the lowest cross-validation RMSE (minimum point in the plot) occurs when there are M=25 principal components. The RMSE at M=25 is, in fact, slightly below the green line."
   ]
  },
  {
   "cell_type": "code",
   "execution_count": 143,
   "metadata": {},
   "outputs": [],
   "source": [
    "# Visually determine optimal number of principal components\n",
    "best_pc_num = 25"
   ]
  },
  {
   "cell_type": "markdown",
   "metadata": {},
   "source": [
    "Predict"
   ]
  },
  {
   "cell_type": "code",
   "execution_count": 144,
   "metadata": {},
   "outputs": [],
   "source": [
    "# Train model on training set\n",
    "lin_reg_pc = LinearRegression().fit(X_train_pc[:,:best_pc_num], y_train)"
   ]
  },
  {
   "cell_type": "code",
   "execution_count": 145,
   "metadata": {},
   "outputs": [
    {
     "data": {
      "text/plain": [
       "0.14418425916568733"
      ]
     },
     "execution_count": 145,
     "metadata": {},
     "output_type": "execute_result"
    }
   ],
   "source": [
    "# Get R2 score\n",
    "lin_reg_pc.score(X_train_pc[:,:best_pc_num], y_train)"
   ]
  },
  {
   "cell_type": "code",
   "execution_count": 146,
   "metadata": {},
   "outputs": [
    {
     "data": {
      "text/plain": [
       "0.9248715468876634"
      ]
     },
     "execution_count": 146,
     "metadata": {},
     "output_type": "execute_result"
    }
   ],
   "source": [
    "pcr_score_train = -1 * cross_val_score(lin_reg_pc, \n",
    "                                       X_train_pc[:,:best_pc_num], \n",
    "                                       y_train, \n",
    "                                       cv=cv, \n",
    "                                       scoring='neg_root_mean_squared_error').mean()\n",
    "pcr_score_train"
   ]
  },
  {
   "cell_type": "code",
   "execution_count": 147,
   "metadata": {},
   "outputs": [
    {
     "data": {
      "text/plain": [
       "(112776, 25)"
      ]
     },
     "execution_count": 147,
     "metadata": {},
     "output_type": "execute_result"
    }
   ],
   "source": [
    "# Get principal components of test set\n",
    "X_test_pc = pca.transform(X_test_scaled)[:,:best_pc_num]\n",
    "X_test_pc.shape"
   ]
  },
  {
   "cell_type": "code",
   "execution_count": 148,
   "metadata": {},
   "outputs": [
    {
     "data": {
      "text/plain": [
       "0.9265213720794192"
      ]
     },
     "execution_count": 148,
     "metadata": {},
     "output_type": "execute_result"
    }
   ],
   "source": [
    "# Predict on test data\n",
    "preds = lin_reg_pc.predict(X_test_pc)\n",
    "pcr_score_test = mean_squared_error(y_test, preds, squared=False)\n",
    "pcr_score_test"
   ]
  },
  {
   "cell_type": "markdown",
   "metadata": {},
   "source": [
    "### Evaluation"
   ]
  },
  {
   "cell_type": "code",
   "execution_count": 149,
   "metadata": {},
   "outputs": [
    {
     "data": {
      "text/html": [
       "<div>\n",
       "<style scoped>\n",
       "    .dataframe tbody tr th:only-of-type {\n",
       "        vertical-align: middle;\n",
       "    }\n",
       "\n",
       "    .dataframe tbody tr th {\n",
       "        vertical-align: top;\n",
       "    }\n",
       "\n",
       "    .dataframe thead th {\n",
       "        text-align: right;\n",
       "    }\n",
       "</style>\n",
       "<table border=\"1\" class=\"dataframe\">\n",
       "  <thead>\n",
       "    <tr style=\"text-align: right;\">\n",
       "      <th></th>\n",
       "      <th>RMSE (Train Set)</th>\n",
       "    </tr>\n",
       "  </thead>\n",
       "  <tbody>\n",
       "    <tr>\n",
       "      <th>Linear Regression</th>\n",
       "      <td>0.924</td>\n",
       "    </tr>\n",
       "    <tr>\n",
       "      <th>Lasso Regression</th>\n",
       "      <td>0.924</td>\n",
       "    </tr>\n",
       "    <tr>\n",
       "      <th>Ridge Regression</th>\n",
       "      <td>0.924</td>\n",
       "    </tr>\n",
       "    <tr>\n",
       "      <th>PCR (25 components)</th>\n",
       "      <td>0.925</td>\n",
       "    </tr>\n",
       "  </tbody>\n",
       "</table>\n",
       "</div>"
      ],
      "text/plain": [
       "                     RMSE (Train Set)\n",
       "Linear Regression               0.924\n",
       "Lasso Regression                0.924\n",
       "Ridge Regression                0.924\n",
       "PCR (25 components)             0.925"
      ]
     },
     "execution_count": 149,
     "metadata": {},
     "output_type": "execute_result"
    }
   ],
   "source": [
    "train_metrics = np.array([round(lr_score_train,3), \n",
    "                          round(lasso_score_train,3), \n",
    "                          round(ridge_score_train,3), \n",
    "                          round(pcr_score_train,3)]) \n",
    "train_metrics = pd.DataFrame(train_metrics, columns=['RMSE (Train Set)'])\n",
    "train_metrics.index = ['Linear Regression', \n",
    "                       'Lasso Regression', \n",
    "                       'Ridge Regression', \n",
    "                       f'PCR ({best_pc_num} components)']\n",
    "train_metrics"
   ]
  },
  {
   "cell_type": "code",
   "execution_count": 150,
   "metadata": {},
   "outputs": [
    {
     "data": {
      "text/html": [
       "<div>\n",
       "<style scoped>\n",
       "    .dataframe tbody tr th:only-of-type {\n",
       "        vertical-align: middle;\n",
       "    }\n",
       "\n",
       "    .dataframe tbody tr th {\n",
       "        vertical-align: top;\n",
       "    }\n",
       "\n",
       "    .dataframe thead th {\n",
       "        text-align: right;\n",
       "    }\n",
       "</style>\n",
       "<table border=\"1\" class=\"dataframe\">\n",
       "  <thead>\n",
       "    <tr style=\"text-align: right;\">\n",
       "      <th></th>\n",
       "      <th>RMSE (Test Set)</th>\n",
       "    </tr>\n",
       "  </thead>\n",
       "  <tbody>\n",
       "    <tr>\n",
       "      <th>Linear Regression</th>\n",
       "      <td>0.926</td>\n",
       "    </tr>\n",
       "    <tr>\n",
       "      <th>Lasso Regression</th>\n",
       "      <td>0.926</td>\n",
       "    </tr>\n",
       "    <tr>\n",
       "      <th>Ridge Regression</th>\n",
       "      <td>0.926</td>\n",
       "    </tr>\n",
       "    <tr>\n",
       "      <th>PCR (25 components)</th>\n",
       "      <td>0.927</td>\n",
       "    </tr>\n",
       "  </tbody>\n",
       "</table>\n",
       "</div>"
      ],
      "text/plain": [
       "                     RMSE (Test Set)\n",
       "Linear Regression              0.926\n",
       "Lasso Regression               0.926\n",
       "Ridge Regression               0.926\n",
       "PCR (25 components)            0.927"
      ]
     },
     "execution_count": 150,
     "metadata": {},
     "output_type": "execute_result"
    }
   ],
   "source": [
    "test_metrics = np.array([round(lr_score_test,3), \n",
    "                         round(lasso_score_test,3), \n",
    "                         round(ridge_score_test,3), \n",
    "                         round(pcr_score_test,3)]) \n",
    "test_metrics = pd.DataFrame(test_metrics, columns=['RMSE (Test Set)'])\n",
    "test_metrics.index = ['Linear Regression', \n",
    "                      'Lasso Regression', \n",
    "                      'Ridge Regression', \n",
    "                      f'PCR ({best_pc_num} components)']\n",
    "test_metrics"
   ]
  },
  {
   "cell_type": "markdown",
   "metadata": {},
   "source": [
    "#### Overwiew\n",
    "\n",
    "Liner Regression with features:\n",
    "\n",
    "Test data\t\n",
    "\n",
    "- RMSE: \t\t0.92\t\n",
    "- MAE: \t\t0.65\n",
    "- R^2: \t\t0.14\n",
    "\n",
    "\n",
    "Training data\n",
    "\n",
    "- RMSE: \t\t0.85\n",
    "- MAE: \t\t0.65\n",
    "- R^2: \t\t0.14\n",
    "\n",
    "\n",
    "Difference\n",
    "\n",
    "- RMSE: \t\t0.07\n",
    "- MAE: \t\t-0.00\n",
    "- R^2: \t\t-0.00\n",
    "\n",
    "\n",
    "Best model parameters from randomized search: {'normalize': True}"
   ]
  }
 ],
 "metadata": {
  "kernelspec": {
   "display_name": "Python 3.9.13 ('new_env')",
   "language": "python",
   "name": "python3"
  },
  "language_info": {
   "codemirror_mode": {
    "name": "ipython",
    "version": 3
   },
   "file_extension": ".py",
   "mimetype": "text/x-python",
   "name": "python",
   "nbconvert_exporter": "python",
   "pygments_lexer": "ipython3",
   "version": "3.9.13"
  },
  "orig_nbformat": 4,
  "vscode": {
   "interpreter": {
    "hash": "3c229a7bb837f7622ff6522438b225aa15e7a80f2ac0a1c0d5851fa7ebe2f25d"
   }
  }
 },
 "nbformat": 4,
 "nbformat_minor": 2
}
