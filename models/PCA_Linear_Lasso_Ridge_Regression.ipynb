{
 "cells": [
  {
   "cell_type": "code",
   "execution_count": 49,
   "metadata": {},
   "outputs": [],
   "source": [
    "# import os\n",
    "# # os.chdir('..')\n",
    "# import supervised \n",
    "# from supervised import *"
   ]
  },
  {
   "cell_type": "code",
   "execution_count": 88,
   "metadata": {},
   "outputs": [],
   "source": [
    "import pandas as pd\n",
    "import numpy as np\n",
    "import matplotlib.pyplot as plt\n",
    "\n",
    "from sklearn.linear_model import LinearRegression, Ridge, RidgeCV, Lasso, LassoCV\n",
    "from sklearn.model_selection import KFold, cross_val_score, train_test_split\n",
    "from sklearn.preprocessing import StandardScaler\n",
    "\n",
    "from sklearn.decomposition import PCA\n",
    "\n",
    "import pickle"
   ]
  },
  {
   "cell_type": "code",
   "execution_count": 89,
   "metadata": {},
   "outputs": [],
   "source": [
    "# Read from extracted data\n",
    "df = pd.read_csv('data_for_modeling_final_2022-10-28_1227.csv')"
   ]
  },
  {
   "cell_type": "code",
   "execution_count": 52,
   "metadata": {},
   "outputs": [
    {
     "name": "stdout",
     "output_type": "stream",
     "text": [
      "['mkt_carrier_fl_num', 'op_carrier_fl_num', 'origin_airport_id', 'dest_airport_id', 'crs_dep_time', 'dep_delay', 'crs_arr_time', 'arr_delay', 'cancelled', 'diverted', 'crs_elapsed_time', 'air_time', 'distance_x', 'first_dep_time', 'total_add_gtime', 'longest_add_gtime', 'day', 'month', 'year_x', 'crs_arr_hrs', 'crs_dep_hrs', 'day_of_year', 'week_of_year', 'crs_dep_time_hour', 'fl_date_year', 'fl_date_week_number', 'fl_date_t-1_week_week_number', 'fl_date_t-1_year_year', 'fl_date_t-1_year_month', 'mean_dep_delay_carrier_origin_month', 'mean_arr_delay_carrier_origin_month', 'mean_dep_delay_carrier_origin_week', 'mean_arr_delay_carrier_origin_week', 'mean_dep_delay_carrier_origin_date', 'mean_arr_delay_carrier_origin_date', 'mean_dep_delay_carrier_origin_date_t-1_week', 'mean_arr_delay_carrier_origin_date_t-1_week', 'mean_dep_delay_carrier_origin_date_t-1_week_week_number', 'mean_arr_delay_carrier_origin_date_t-1_week_week_number', 'mean_dep_delay_carrier_origin_datet-1_year_week', 'mean_arr_delay_carrier_origin_datet-1_year_week', 'mean_dep_delay_carrier_origin_date_t-1_year_month', 'mean_arr_delay_carrier_origin_date_t-1_year_month', 'Unnamed: 0', 'departures_performed', 'distance_y', 'airline_id', 'year_y', 'mean_payload_per_departure', 'mean_seats_per_departure', 'mean_passengers_per_departure', 'mean_freight_per_departure', 'mean_mail_per_departure', 'mean_empty_seats_per_departure', 'origin_region_Midwest', 'origin_region_Northeast', 'origin_region_South', 'origin_region_West', 'dest_region_Midwest', 'dest_region_Northeast', 'dest_region_South', 'dest_region_West', 'dep_hrs_ctg_Afternoon', 'dep_hrs_ctg_Evening', 'dep_hrs_ctg_Morning', 'dep_hrs_ctg_Night', 'arr_hrs_ctg_Afternoon', 'arr_hrs_ctg_Evening', 'arr_hrs_ctg_Morning', 'arr_hrs_ctg_Night', 'day_of_week_Friday', 'day_of_week_Monday', 'day_of_week_Saturday', 'day_of_week_Sunday', 'day_of_week_Thursday', 'day_of_week_Tuesday', 'day_of_week_Wednesday', 'haul_length_long', 'haul_length_medium', 'haul_length_short']\n"
     ]
    }
   ],
   "source": [
    "print(df.columns.tolist())"
   ]
  },
  {
   "cell_type": "code",
   "execution_count": 90,
   "metadata": {},
   "outputs": [],
   "source": [
    "# Create list with the columns to be scaled.\n",
    "numeric_cols = [\n",
    "\n",
    "# 'dep_delay', \n",
    "'arr_delay', 'month', 'year_x', 'crs_elapsed_time', 'distance_x',\n",
    "'mean_payload_per_departure', 'mean_seats_per_departure', 'mean_passengers_per_departure', \n",
    "'mean_freight_per_departure', 'mean_mail_per_departure', 'mean_empty_seats_per_departure',\n",
    "\n",
    "'mean_dep_delay_carrier_origin_month', 'mean_arr_delay_carrier_origin_month', \n",
    "'mean_dep_delay_carrier_origin_week', 'mean_arr_delay_carrier_origin_week', \n",
    "'mean_dep_delay_carrier_origin_date', 'mean_arr_delay_carrier_origin_date', \n",
    "'mean_dep_delay_carrier_origin_date_t-1_week', 'mean_arr_delay_carrier_origin_date_t-1_week', \n",
    "'mean_dep_delay_carrier_origin_date_t-1_week_week_number', \n",
    "'mean_arr_delay_carrier_origin_date_t-1_week_week_number', \n",
    "'mean_dep_delay_carrier_origin_datet-1_year_week', \n",
    "'mean_arr_delay_carrier_origin_datet-1_year_week', \n",
    "'mean_dep_delay_carrier_origin_date_t-1_year_month', \n",
    "'mean_arr_delay_carrier_origin_date_t-1_year_month'\n",
    "]\n",
    "\n",
    "\n",
    "# Create a list with the dummy/categorical variables:\n",
    "cat_cols = [\n",
    "\n",
    "'origin_region_Midwest', 'origin_region_Northeast',\n",
    "'origin_region_South', 'origin_region_West', 'dest_region_Midwest',\n",
    "'dest_region_Northeast', 'dest_region_South', 'dest_region_West',\n",
    "\n",
    "'arr_hrs_ctg_Afternoon', 'arr_hrs_ctg_Evening', 'arr_hrs_ctg_Morning',\n",
    "'arr_hrs_ctg_Night', \n",
    "\n",
    "'dep_hrs_ctg_Afternoon', 'dep_hrs_ctg_Evening', 'dep_hrs_ctg_Morning', \n",
    "'dep_hrs_ctg_Night',\n",
    "\n",
    "'day_of_week_Friday', 'day_of_week_Monday', 'day_of_week_Saturday', \n",
    "'day_of_week_Sunday', 'day_of_week_Thursday', 'day_of_week_Tuesday', \n",
    "'day_of_week_Wednesday',\n",
    "\n",
    "'haul_length_long', 'haul_length_medium', 'haul_length_short'\n",
    "\n",
    "       ]"
   ]
  },
  {
   "cell_type": "code",
   "execution_count": 91,
   "metadata": {},
   "outputs": [],
   "source": [
    "# 2022-10-27 8:57 Here is the function to scale the data. Please read the function documentation. \n",
    "# This function has been saved to the midterm_functions.py file.\n",
    "def scale_data(df, numeric_cols, cat_cols):\n",
    "    \"\"\"\n",
    "    - Perform standardization (StandardScaler) on the numeric_cols of the dataframe. \n",
    "    - combines both numeric and categorical back to the entire feature dataframe.\n",
    "\n",
    "    Params:\n",
    "    - df: Dataframe object with both feature and target data. \n",
    "    - numeric_cols: Name of the numeric columns to be scaled.\n",
    "    - cat_cols: Name of the categorical columns (dummy variables) NOT to be scaled.\n",
    "\n",
    "    Returns: Dataframe with numeric data scaled and categorical data as-is.\n",
    "\n",
    "    \"\"\"\n",
    "    # Create the scaler based on the training dataset\n",
    "    scaler = StandardScaler()\n",
    "    scaler.fit(df[numeric_cols])\n",
    "    X_numeric_scaled = scaler.transform(df[numeric_cols])\n",
    "    X_categorical = df[cat_cols].to_numpy()\n",
    "    X = pd.DataFrame(np.hstack((X_categorical, X_numeric_scaled)), columns=cat_cols + numeric_cols)\n",
    "    return X"
   ]
  },
  {
   "cell_type": "code",
   "execution_count": 92,
   "metadata": {},
   "outputs": [],
   "source": [
    "# Call the function:\n",
    "df_scaled = scale_data(df, numeric_cols, cat_cols)"
   ]
  },
  {
   "cell_type": "code",
   "execution_count": 93,
   "metadata": {},
   "outputs": [],
   "source": [
    "X = df_scaled.drop('arr_delay', axis = 1)   # features\n",
    "y = df_scaled['arr_delay']    # labels"
   ]
  },
  {
   "cell_type": "code",
   "execution_count": 94,
   "metadata": {},
   "outputs": [],
   "source": [
    "X_train_scaled, X_test_scaled, y_train, y_test = train_test_split(X, y, test_size=0.2, random_state=42)"
   ]
  },
  {
   "cell_type": "code",
   "execution_count": 95,
   "metadata": {},
   "outputs": [],
   "source": [
    "from sklearn.metrics import mean_squared_error\n",
    "\n",
    "# Define cross-validation folds\n",
    "cv = KFold(n_splits=10, shuffle=True, random_state=42)"
   ]
  },
  {
   "cell_type": "markdown",
   "metadata": {},
   "source": [
    "#### 1. Linear Regression (no regularization)"
   ]
  },
  {
   "cell_type": "code",
   "execution_count": 96,
   "metadata": {},
   "outputs": [
    {
     "data": {
      "text/plain": [
       "0.03613728998781207"
      ]
     },
     "execution_count": 96,
     "metadata": {},
     "output_type": "execute_result"
    }
   ],
   "source": [
    "# Linear Regression\n",
    "lin_reg = LinearRegression().fit(X_train_scaled, y_train)\n",
    "\n",
    "# Get R2 score\n",
    "lin_reg.score(X_train_scaled, y_train)"
   ]
  },
  {
   "cell_type": "code",
   "execution_count": 97,
   "metadata": {},
   "outputs": [
    {
     "data": {
      "text/plain": [
       "array([0.98375113, 0.98217246, 0.98345832, 0.98502087, 0.98262192,\n",
       "       0.98065384, 0.97911128, 0.98217146, 0.98155974, 0.98007464])"
      ]
     },
     "execution_count": 97,
     "metadata": {},
     "output_type": "execute_result"
    }
   ],
   "source": [
    "# lr_scores = -1 * cross_val_score(lin_reg, \n",
    "#                                  X_train_scaled, \n",
    "#                                  y_train, \n",
    "#                                  cv=cv, \n",
    "#                                  scoring='neg_root_mean_squared_error')\n",
    "\n",
    "lr_scores = -1 * cross_val_score(lin_reg, X_train_scaled, y_train, cv=cv, scoring='neg_root_mean_squared_error')\n",
    "lr_scores"
   ]
  },
  {
   "cell_type": "code",
   "execution_count": 98,
   "metadata": {},
   "outputs": [
    {
     "data": {
      "text/plain": [
       "0.9820595666976463"
      ]
     },
     "execution_count": 98,
     "metadata": {},
     "output_type": "execute_result"
    }
   ],
   "source": [
    "lr_score_train = np.mean(lr_scores)\n",
    "lr_score_train"
   ]
  },
  {
   "cell_type": "markdown",
   "metadata": {},
   "source": [
    "Predict"
   ]
  },
  {
   "cell_type": "code",
   "execution_count": 99,
   "metadata": {},
   "outputs": [
    {
     "data": {
      "text/plain": [
       "0.9805174320009802"
      ]
     },
     "execution_count": 99,
     "metadata": {},
     "output_type": "execute_result"
    }
   ],
   "source": [
    "y_predicted = lin_reg.predict(X_test_scaled)\n",
    "lr_score_test = mean_squared_error(y_test, y_predicted, squared=False) # RMSE instead of MSE\n",
    "lr_score_test"
   ]
  },
  {
   "cell_type": "markdown",
   "metadata": {},
   "source": [
    "#### 2. Lasso Regression (L1 regularization)"
   ]
  },
  {
   "cell_type": "code",
   "execution_count": 63,
   "metadata": {},
   "outputs": [],
   "source": [
    "lasso_reg = LassoCV().fit(X_train_scaled, y_train)"
   ]
  },
  {
   "cell_type": "code",
   "execution_count": 64,
   "metadata": {},
   "outputs": [
    {
     "data": {
      "text/plain": [
       "0.03711277295009041"
      ]
     },
     "execution_count": 64,
     "metadata": {},
     "output_type": "execute_result"
    }
   ],
   "source": [
    "# Get R2 score\n",
    "lasso_reg.score(X_train_scaled, y_train)"
   ]
  },
  {
   "cell_type": "code",
   "execution_count": 65,
   "metadata": {},
   "outputs": [
    {
     "data": {
      "text/plain": [
       "array([0.98335901, 0.98178617, 0.98302477, 0.9845845 , 0.98222009,\n",
       "       0.98017212, 0.97874069, 0.98170651, 0.98115836, 0.97959215])"
      ]
     },
     "execution_count": 65,
     "metadata": {},
     "output_type": "execute_result"
    }
   ],
   "source": [
    "lasso_scores = -1 * cross_val_score(lasso_reg, \n",
    "                                    X_train_scaled, \n",
    "                                    y_train, \n",
    "                                    cv=cv, \n",
    "                                    scoring='neg_root_mean_squared_error')\n",
    "lasso_scores"
   ]
  },
  {
   "cell_type": "code",
   "execution_count": 66,
   "metadata": {},
   "outputs": [
    {
     "data": {
      "text/plain": [
       "0.9816344355454316"
      ]
     },
     "execution_count": 66,
     "metadata": {},
     "output_type": "execute_result"
    }
   ],
   "source": [
    "lasso_score_train = np.mean(lasso_scores)\n",
    "lasso_score_train"
   ]
  },
  {
   "cell_type": "markdown",
   "metadata": {},
   "source": [
    "Predict"
   ]
  },
  {
   "cell_type": "code",
   "execution_count": 67,
   "metadata": {},
   "outputs": [
    {
     "data": {
      "text/plain": [
       "0.9799927107080284"
      ]
     },
     "execution_count": 67,
     "metadata": {},
     "output_type": "execute_result"
    }
   ],
   "source": [
    "y_predicted = lasso_reg.predict(X_test_scaled)\n",
    "lasso_score_test = mean_squared_error(y_test, y_predicted, squared=False)\n",
    "lasso_score_test"
   ]
  },
  {
   "cell_type": "markdown",
   "metadata": {},
   "source": [
    "#### 3. Ridge Regression (L2 regularization)"
   ]
  },
  {
   "cell_type": "code",
   "execution_count": 68,
   "metadata": {},
   "outputs": [],
   "source": [
    "ridge_reg = RidgeCV().fit(X_train_scaled, y_train)"
   ]
  },
  {
   "cell_type": "code",
   "execution_count": 69,
   "metadata": {},
   "outputs": [
    {
     "data": {
      "text/plain": [
       "0.03711789416832223"
      ]
     },
     "execution_count": 69,
     "metadata": {},
     "output_type": "execute_result"
    }
   ],
   "source": [
    "# Get R2 score\n",
    "ridge_reg.score(X_train_scaled, y_train)"
   ]
  },
  {
   "cell_type": "code",
   "execution_count": 70,
   "metadata": {},
   "outputs": [
    {
     "data": {
      "text/plain": [
       "array([0.98335747, 0.98177973, 0.98302199, 0.98459634, 0.98221759,\n",
       "       0.98017408, 0.97873126, 0.98169425, 0.98115467, 0.97959228])"
      ]
     },
     "execution_count": 70,
     "metadata": {},
     "output_type": "execute_result"
    }
   ],
   "source": [
    "ridge_scores = -1 * cross_val_score(ridge_reg, \n",
    "                                    X_train_scaled, \n",
    "                                    y_train, \n",
    "                                    cv=cv, \n",
    "                                    scoring='neg_root_mean_squared_error')\n",
    "ridge_scores"
   ]
  },
  {
   "cell_type": "code",
   "execution_count": 71,
   "metadata": {},
   "outputs": [
    {
     "data": {
      "text/plain": [
       "0.9816319674369636"
      ]
     },
     "execution_count": 71,
     "metadata": {},
     "output_type": "execute_result"
    }
   ],
   "source": [
    "ridge_score_train = np.mean(ridge_scores)\n",
    "ridge_score_train"
   ]
  },
  {
   "cell_type": "markdown",
   "metadata": {},
   "source": [
    "Predict"
   ]
  },
  {
   "cell_type": "code",
   "execution_count": 72,
   "metadata": {},
   "outputs": [
    {
     "data": {
      "text/plain": [
       "0.9799947677162691"
      ]
     },
     "execution_count": 72,
     "metadata": {},
     "output_type": "execute_result"
    }
   ],
   "source": [
    "y_predicted = ridge_reg.predict(X_test_scaled)\n",
    "ridge_score_test = mean_squared_error(y_test, y_predicted, squared=False)\n",
    "ridge_score_test"
   ]
  },
  {
   "cell_type": "markdown",
   "metadata": {},
   "source": [
    "#### Principal Components Regression\n",
    "Evaluate for different number of principal components"
   ]
  },
  {
   "cell_type": "code",
   "execution_count": 100,
   "metadata": {},
   "outputs": [],
   "source": [
    "lin_reg = LinearRegression()\n",
    "rmse_list = []"
   ]
  },
  {
   "cell_type": "code",
   "execution_count": 101,
   "metadata": {},
   "outputs": [
    {
     "data": {
      "text/plain": [
       "(3327693, 37)"
      ]
     },
     "execution_count": 101,
     "metadata": {},
     "output_type": "execute_result"
    }
   ],
   "source": [
    "# First generate all the principal components\n",
    "pca = PCA()\n",
    "X_train_pc = pca.fit_transform(X_train_scaled)\n",
    "X_train_pc.shape"
   ]
  },
  {
   "cell_type": "code",
   "execution_count": 102,
   "metadata": {},
   "outputs": [
    {
     "data": {
      "text/plain": [
       "array([4.09292489e-01, 1.94941021e-01, 1.08144300e-01, 4.66529572e-02,\n",
       "       3.29209294e-02, 2.54989834e-02, 2.32347100e-02, 1.73089060e-02,\n",
       "       1.51059917e-02, 1.34228720e-02, 1.12153108e-02, 1.06374130e-02,\n",
       "       1.05192370e-02, 1.04954508e-02, 1.03848374e-02, 1.02966425e-02,\n",
       "       1.01881620e-02, 9.42299601e-03, 9.32798097e-03, 8.60085693e-03,\n",
       "       6.83016581e-03, 3.10584942e-03, 1.33333422e-03, 5.89320899e-04,\n",
       "       5.26935242e-04, 2.34683981e-06, 4.77666513e-26, 8.16857988e-27,\n",
       "       5.76386411e-27, 3.63730382e-27, 1.91733748e-27, 8.27070415e-28,\n",
       "       1.05743908e-29, 8.07187108e-32, 1.78043871e-33, 1.78043871e-33,\n",
       "       1.78043871e-33])"
      ]
     },
     "execution_count": 102,
     "metadata": {},
     "output_type": "execute_result"
    }
   ],
   "source": [
    "# View explained variance ratio for each principal component\n",
    "pca.explained_variance_ratio_"
   ]
  },
  {
   "cell_type": "code",
   "execution_count": 103,
   "metadata": {},
   "outputs": [
    {
     "data": {
      "text/html": [
       "<div>\n",
       "<style scoped>\n",
       "    .dataframe tbody tr th:only-of-type {\n",
       "        vertical-align: middle;\n",
       "    }\n",
       "\n",
       "    .dataframe tbody tr th {\n",
       "        vertical-align: top;\n",
       "    }\n",
       "\n",
       "    .dataframe thead th {\n",
       "        text-align: right;\n",
       "    }\n",
       "</style>\n",
       "<table border=\"1\" class=\"dataframe\">\n",
       "  <thead>\n",
       "    <tr style=\"text-align: right;\">\n",
       "      <th></th>\n",
       "      <th>0</th>\n",
       "      <th>1</th>\n",
       "      <th>2</th>\n",
       "      <th>3</th>\n",
       "      <th>4</th>\n",
       "      <th>5</th>\n",
       "      <th>6</th>\n",
       "      <th>7</th>\n",
       "      <th>8</th>\n",
       "      <th>9</th>\n",
       "      <th>...</th>\n",
       "      <th>27</th>\n",
       "      <th>28</th>\n",
       "      <th>29</th>\n",
       "      <th>30</th>\n",
       "      <th>31</th>\n",
       "      <th>32</th>\n",
       "      <th>33</th>\n",
       "      <th>34</th>\n",
       "      <th>35</th>\n",
       "      <th>36</th>\n",
       "    </tr>\n",
       "  </thead>\n",
       "  <tbody>\n",
       "    <tr>\n",
       "      <th>0</th>\n",
       "      <td>0.011570</td>\n",
       "      <td>-0.024047</td>\n",
       "      <td>0.012195</td>\n",
       "      <td>-0.008567</td>\n",
       "      <td>0.023036</td>\n",
       "      <td>-0.077642</td>\n",
       "      <td>0.019808</td>\n",
       "      <td>0.009808</td>\n",
       "      <td>0.519376</td>\n",
       "      <td>-0.136399</td>\n",
       "      <td>...</td>\n",
       "      <td>0.066936</td>\n",
       "      <td>0.032582</td>\n",
       "      <td>0.048477</td>\n",
       "      <td>-0.012222</td>\n",
       "      <td>-0.004531</td>\n",
       "      <td>0.000001</td>\n",
       "      <td>0.000004</td>\n",
       "      <td>0.000000e+00</td>\n",
       "      <td>0.000000e+00</td>\n",
       "      <td>0.000000e+00</td>\n",
       "    </tr>\n",
       "    <tr>\n",
       "      <th>1</th>\n",
       "      <td>0.030937</td>\n",
       "      <td>0.020318</td>\n",
       "      <td>0.013602</td>\n",
       "      <td>-0.020317</td>\n",
       "      <td>-0.095807</td>\n",
       "      <td>-0.202743</td>\n",
       "      <td>0.053986</td>\n",
       "      <td>0.139156</td>\n",
       "      <td>0.135521</td>\n",
       "      <td>-0.000596</td>\n",
       "      <td>...</td>\n",
       "      <td>0.066936</td>\n",
       "      <td>0.032582</td>\n",
       "      <td>0.048477</td>\n",
       "      <td>-0.012222</td>\n",
       "      <td>-0.004531</td>\n",
       "      <td>0.000001</td>\n",
       "      <td>0.000004</td>\n",
       "      <td>4.496099e-19</td>\n",
       "      <td>5.146774e-18</td>\n",
       "      <td>-1.488044e-17</td>\n",
       "    </tr>\n",
       "    <tr>\n",
       "      <th>2</th>\n",
       "      <td>0.028583</td>\n",
       "      <td>-0.037581</td>\n",
       "      <td>-0.039074</td>\n",
       "      <td>-0.003669</td>\n",
       "      <td>-0.349808</td>\n",
       "      <td>0.493908</td>\n",
       "      <td>-0.104441</td>\n",
       "      <td>-0.402217</td>\n",
       "      <td>-0.410038</td>\n",
       "      <td>0.130413</td>\n",
       "      <td>...</td>\n",
       "      <td>0.066936</td>\n",
       "      <td>0.032582</td>\n",
       "      <td>0.048477</td>\n",
       "      <td>-0.012222</td>\n",
       "      <td>-0.004531</td>\n",
       "      <td>0.000001</td>\n",
       "      <td>0.000004</td>\n",
       "      <td>-7.626639e-19</td>\n",
       "      <td>2.320882e-18</td>\n",
       "      <td>-6.792367e-18</td>\n",
       "    </tr>\n",
       "    <tr>\n",
       "      <th>3</th>\n",
       "      <td>-0.071091</td>\n",
       "      <td>0.041309</td>\n",
       "      <td>0.013277</td>\n",
       "      <td>0.032553</td>\n",
       "      <td>0.422579</td>\n",
       "      <td>-0.213523</td>\n",
       "      <td>0.030648</td>\n",
       "      <td>0.253252</td>\n",
       "      <td>-0.244859</td>\n",
       "      <td>0.006583</td>\n",
       "      <td>...</td>\n",
       "      <td>0.066936</td>\n",
       "      <td>0.032582</td>\n",
       "      <td>0.048477</td>\n",
       "      <td>-0.012222</td>\n",
       "      <td>-0.004531</td>\n",
       "      <td>0.000001</td>\n",
       "      <td>0.000004</td>\n",
       "      <td>4.128028e-19</td>\n",
       "      <td>2.422047e-17</td>\n",
       "      <td>-1.085282e-17</td>\n",
       "    </tr>\n",
       "    <tr>\n",
       "      <th>4</th>\n",
       "      <td>0.005115</td>\n",
       "      <td>-0.029131</td>\n",
       "      <td>0.004270</td>\n",
       "      <td>0.003103</td>\n",
       "      <td>-0.019224</td>\n",
       "      <td>-0.089428</td>\n",
       "      <td>0.040979</td>\n",
       "      <td>-0.377703</td>\n",
       "      <td>0.392173</td>\n",
       "      <td>-0.095420</td>\n",
       "      <td>...</td>\n",
       "      <td>0.485840</td>\n",
       "      <td>0.085306</td>\n",
       "      <td>-0.043629</td>\n",
       "      <td>-0.012809</td>\n",
       "      <td>-0.003942</td>\n",
       "      <td>-0.000050</td>\n",
       "      <td>0.000060</td>\n",
       "      <td>-1.574800e-17</td>\n",
       "      <td>-4.561118e-17</td>\n",
       "      <td>1.571259e-17</td>\n",
       "    </tr>\n",
       "  </tbody>\n",
       "</table>\n",
       "<p>5 rows × 37 columns</p>\n",
       "</div>"
      ],
      "text/plain": [
       "         0         1         2         3         4         5         6   \\\n",
       "0  0.011570 -0.024047  0.012195 -0.008567  0.023036 -0.077642  0.019808   \n",
       "1  0.030937  0.020318  0.013602 -0.020317 -0.095807 -0.202743  0.053986   \n",
       "2  0.028583 -0.037581 -0.039074 -0.003669 -0.349808  0.493908 -0.104441   \n",
       "3 -0.071091  0.041309  0.013277  0.032553  0.422579 -0.213523  0.030648   \n",
       "4  0.005115 -0.029131  0.004270  0.003103 -0.019224 -0.089428  0.040979   \n",
       "\n",
       "         7         8         9   ...        27        28        29        30  \\\n",
       "0  0.009808  0.519376 -0.136399  ...  0.066936  0.032582  0.048477 -0.012222   \n",
       "1  0.139156  0.135521 -0.000596  ...  0.066936  0.032582  0.048477 -0.012222   \n",
       "2 -0.402217 -0.410038  0.130413  ...  0.066936  0.032582  0.048477 -0.012222   \n",
       "3  0.253252 -0.244859  0.006583  ...  0.066936  0.032582  0.048477 -0.012222   \n",
       "4 -0.377703  0.392173 -0.095420  ...  0.485840  0.085306 -0.043629 -0.012809   \n",
       "\n",
       "         31        32        33            34            35            36  \n",
       "0 -0.004531  0.000001  0.000004  0.000000e+00  0.000000e+00  0.000000e+00  \n",
       "1 -0.004531  0.000001  0.000004  4.496099e-19  5.146774e-18 -1.488044e-17  \n",
       "2 -0.004531  0.000001  0.000004 -7.626639e-19  2.320882e-18 -6.792367e-18  \n",
       "3 -0.004531  0.000001  0.000004  4.128028e-19  2.422047e-17 -1.085282e-17  \n",
       "4 -0.003942 -0.000050  0.000060 -1.574800e-17 -4.561118e-17  1.571259e-17  \n",
       "\n",
       "[5 rows x 37 columns]"
      ]
     },
     "execution_count": 103,
     "metadata": {},
     "output_type": "execute_result"
    }
   ],
   "source": [
    "# View first 5 rows of all principal components\n",
    "pd.DataFrame(pca.components_.T).loc[:4,:]"
   ]
  },
  {
   "cell_type": "code",
   "execution_count": 104,
   "metadata": {},
   "outputs": [],
   "source": [
    "# Loop through different count of principal components for linear regression\n",
    "for i in range(1, X_train_pc.shape[1]+1):\n",
    "    rmse_score = -1 * cross_val_score(lin_reg, \n",
    "                                      X_train_pc[:,:i], # Use first k principal components\n",
    "                                      y_train, \n",
    "                                      cv=cv, \n",
    "                                      scoring='neg_root_mean_squared_error').mean()\n",
    "    rmse_list.append(rmse_score)"
   ]
  },
  {
   "cell_type": "code",
   "execution_count": 78,
   "metadata": {},
   "outputs": [
    {
     "data": {
      "text/plain": [
       "[0.9981276729811744,\n",
       " 0.9980876536731677,\n",
       " 0.9977322649263289,\n",
       " 0.9972877079925127,\n",
       " 0.9967519769165565,\n",
       " 0.9967522247120959,\n",
       " 0.9953861372148044,\n",
       " 0.995361886947836,\n",
       " 0.9866495787323359,\n",
       " 0.9866476627976889,\n",
       " 0.9865779304397064,\n",
       " 0.98657229973036,\n",
       " 0.9862482248586014,\n",
       " 0.9862484133758762,\n",
       " 0.9861415798707462,\n",
       " 0.9861327720371899,\n",
       " 0.986045525111096,\n",
       " 0.9860457531798421,\n",
       " 0.9856425150166024,\n",
       " 0.9856350843132102,\n",
       " 0.9856332350266213,\n",
       " 0.9856167937781125,\n",
       " 0.9854226956911105,\n",
       " 0.9849963741352816,\n",
       " 0.9849878658957382,\n",
       " 0.9843137975041503,\n",
       " 0.984161102575705,\n",
       " 0.9841614185044675,\n",
       " 0.9819681218936147,\n",
       " 0.9816319675580397,\n",
       " 0.9816318792749061,\n",
       " 0.9816320749884111,\n",
       " 0.981632451311415,\n",
       " 0.9816328360915122,\n",
       " 0.9816334322606286,\n",
       " 0.9816335981630366,\n",
       " 0.9816331364981614,\n",
       " 0.981633950995708,\n",
       " 0.9816366680820738,\n",
       " 0.9816359784937134,\n",
       " 0.9816341696618662,\n",
       " 0.9816374076840748,\n",
       " 0.9816373680936896,\n",
       " 0.9816373805860696,\n",
       " 0.9816372631998265,\n",
       " 0.9816372293520053,\n",
       " 0.9816371913352387,\n",
       " 0.9816372052576886,\n",
       " 0.9816342173372543,\n",
       " 0.9816344168687456]"
      ]
     },
     "execution_count": 78,
     "metadata": {},
     "output_type": "execute_result"
    }
   ],
   "source": [
    "rmse_list"
   ]
  },
  {
   "cell_type": "code",
   "execution_count": 79,
   "metadata": {},
   "outputs": [
    {
     "data": {
      "image/png": "[encoded data removed]",
      "text/plain": [
       "<Figure size 432x288 with 1 Axes>"
      ]
     },
     "metadata": {
      "needs_background": "light"
     },
     "output_type": "display_data"
    }
   ],
   "source": [
    "# Plot RMSE vs count of principal components used\n",
    "plt.plot(rmse_list, '-o')\n",
    "plt.xlabel('Number of principal components in regression')\n",
    "plt.ylabel('Cross-Validation RMSE')\n",
    "plt.title('Wine Quality')\n",
    "plt.xlim(xmin=-1);\n",
    "plt.xticks(np.arange(X_train_pc.shape[1]), np.arange(1, X_train_pc.shape[1]+1))\n",
    "plt.axhline(y=lr_score_train, color='g', linestyle='-');"
   ]
  },
  {
   "cell_type": "markdown",
   "metadata": {},
   "source": [
    "We see that the training set performance of PCR improves (i.e., RMSE decreases) with more principal components, in line with what we expect.\n",
    "\n",
    "The green line is the RMSE benchmark from the baseline standard linear regression model using all original features.\n",
    "\n",
    "The plot shows that the lowest cross-validation RMSE (minimum point in the plot) occurs when there are M=10 or 30 principal components. The RMSE at M=10 is, in fact, slightly below the green line."
   ]
  },
  {
   "cell_type": "code",
   "execution_count": 80,
   "metadata": {},
   "outputs": [],
   "source": [
    "# Visually determine optimal number of principal components\n",
    "# best_pc_num = 10\n",
    "best_pc_num = 30"
   ]
  },
  {
   "cell_type": "markdown",
   "metadata": {},
   "source": [
    "Predict"
   ]
  },
  {
   "cell_type": "code",
   "execution_count": 81,
   "metadata": {},
   "outputs": [],
   "source": [
    "# Train model on training set\n",
    "lin_reg_pc = LinearRegression().fit(X_train_pc[:,:best_pc_num], y_train)"
   ]
  },
  {
   "cell_type": "code",
   "execution_count": 82,
   "metadata": {},
   "outputs": [
    {
     "data": {
      "text/plain": [
       "0.03711789485735395"
      ]
     },
     "execution_count": 82,
     "metadata": {},
     "output_type": "execute_result"
    }
   ],
   "source": [
    "# Get R2 score\n",
    "lin_reg_pc.score(X_train_pc[:,:best_pc_num], y_train)"
   ]
  },
  {
   "cell_type": "code",
   "execution_count": 83,
   "metadata": {},
   "outputs": [
    {
     "data": {
      "text/plain": [
       "0.9816319675580397"
      ]
     },
     "execution_count": 83,
     "metadata": {},
     "output_type": "execute_result"
    }
   ],
   "source": [
    "pcr_score_train = -1 * cross_val_score(lin_reg_pc, \n",
    "                                       X_train_pc[:,:best_pc_num], \n",
    "                                       y_train, \n",
    "                                       cv=cv, \n",
    "                                       scoring='neg_root_mean_squared_error').mean()\n",
    "pcr_score_train"
   ]
  },
  {
   "cell_type": "code",
   "execution_count": 84,
   "metadata": {},
   "outputs": [
    {
     "data": {
      "text/plain": [
       "(831924, 30)"
      ]
     },
     "execution_count": 84,
     "metadata": {},
     "output_type": "execute_result"
    }
   ],
   "source": [
    "# Get principal components of test set\n",
    "X_test_pc = pca.transform(X_test_scaled)[:,:best_pc_num]\n",
    "X_test_pc.shape"
   ]
  },
  {
   "cell_type": "code",
   "execution_count": 85,
   "metadata": {},
   "outputs": [
    {
     "data": {
      "text/plain": [
       "0.9799948249195086"
      ]
     },
     "execution_count": 85,
     "metadata": {},
     "output_type": "execute_result"
    }
   ],
   "source": [
    "# Predict on test data\n",
    "preds = lin_reg_pc.predict(X_test_pc)\n",
    "pcr_score_test = mean_squared_error(y_test, preds, squared=False)\n",
    "pcr_score_test"
   ]
  },
  {
   "cell_type": "markdown",
   "metadata": {},
   "source": [
    "### Evaluation"
   ]
  },
  {
   "cell_type": "code",
   "execution_count": 86,
   "metadata": {},
   "outputs": [
    {
     "data": {
      "text/html": [
       "<div>\n",
       "<style scoped>\n",
       "    .dataframe tbody tr th:only-of-type {\n",
       "        vertical-align: middle;\n",
       "    }\n",
       "\n",
       "    .dataframe tbody tr th {\n",
       "        vertical-align: top;\n",
       "    }\n",
       "\n",
       "    .dataframe thead th {\n",
       "        text-align: right;\n",
       "    }\n",
       "</style>\n",
       "<table border=\"1\" class=\"dataframe\">\n",
       "  <thead>\n",
       "    <tr style=\"text-align: right;\">\n",
       "      <th></th>\n",
       "      <th>RMSE (Train Set)</th>\n",
       "    </tr>\n",
       "  </thead>\n",
       "  <tbody>\n",
       "    <tr>\n",
       "      <th>Linear Regression</th>\n",
       "      <td>0.982</td>\n",
       "    </tr>\n",
       "    <tr>\n",
       "      <th>Lasso Regression</th>\n",
       "      <td>0.982</td>\n",
       "    </tr>\n",
       "    <tr>\n",
       "      <th>Ridge Regression</th>\n",
       "      <td>0.982</td>\n",
       "    </tr>\n",
       "    <tr>\n",
       "      <th>PCR (30 components)</th>\n",
       "      <td>0.982</td>\n",
       "    </tr>\n",
       "  </tbody>\n",
       "</table>\n",
       "</div>"
      ],
      "text/plain": [
       "                     RMSE (Train Set)\n",
       "Linear Regression               0.982\n",
       "Lasso Regression                0.982\n",
       "Ridge Regression                0.982\n",
       "PCR (30 components)             0.982"
      ]
     },
     "execution_count": 86,
     "metadata": {},
     "output_type": "execute_result"
    }
   ],
   "source": [
    "train_metrics = np.array([round(lr_score_train,3), \n",
    "                          round(lasso_score_train,3), \n",
    "                          round(ridge_score_train,3), \n",
    "                          round(pcr_score_train,3)]) \n",
    "train_metrics = pd.DataFrame(train_metrics, columns=['RMSE (Train Set)'])\n",
    "train_metrics.index = ['Linear Regression', \n",
    "                       'Lasso Regression', \n",
    "                       'Ridge Regression', \n",
    "                       f'PCR ({best_pc_num} components)']\n",
    "train_metrics"
   ]
  },
  {
   "cell_type": "code",
   "execution_count": 87,
   "metadata": {},
   "outputs": [
    {
     "data": {
      "text/html": [
       "<div>\n",
       "<style scoped>\n",
       "    .dataframe tbody tr th:only-of-type {\n",
       "        vertical-align: middle;\n",
       "    }\n",
       "\n",
       "    .dataframe tbody tr th {\n",
       "        vertical-align: top;\n",
       "    }\n",
       "\n",
       "    .dataframe thead th {\n",
       "        text-align: right;\n",
       "    }\n",
       "</style>\n",
       "<table border=\"1\" class=\"dataframe\">\n",
       "  <thead>\n",
       "    <tr style=\"text-align: right;\">\n",
       "      <th></th>\n",
       "      <th>RMSE (Test Set)</th>\n",
       "    </tr>\n",
       "  </thead>\n",
       "  <tbody>\n",
       "    <tr>\n",
       "      <th>Linear Regression</th>\n",
       "      <td>0.98</td>\n",
       "    </tr>\n",
       "    <tr>\n",
       "      <th>Lasso Regression</th>\n",
       "      <td>0.98</td>\n",
       "    </tr>\n",
       "    <tr>\n",
       "      <th>Ridge Regression</th>\n",
       "      <td>0.98</td>\n",
       "    </tr>\n",
       "    <tr>\n",
       "      <th>PCR (30 components)</th>\n",
       "      <td>0.98</td>\n",
       "    </tr>\n",
       "  </tbody>\n",
       "</table>\n",
       "</div>"
      ],
      "text/plain": [
       "                     RMSE (Test Set)\n",
       "Linear Regression               0.98\n",
       "Lasso Regression                0.98\n",
       "Ridge Regression                0.98\n",
       "PCR (30 components)             0.98"
      ]
     },
     "execution_count": 87,
     "metadata": {},
     "output_type": "execute_result"
    }
   ],
   "source": [
    "test_metrics = np.array([round(lr_score_test,3), \n",
    "                         round(lasso_score_test,3), \n",
    "                         round(ridge_score_test,3), \n",
    "                         round(pcr_score_test,3)]) \n",
    "test_metrics = pd.DataFrame(test_metrics, columns=['RMSE (Test Set)'])\n",
    "test_metrics.index = ['Linear Regression', \n",
    "                      'Lasso Regression', \n",
    "                      'Ridge Regression', \n",
    "                      f'PCR ({best_pc_num} components)']\n",
    "test_metrics"
   ]
  },
  {
   "cell_type": "markdown",
   "metadata": {},
   "source": [
    "#### Overwiew\n",
    "\n",
    "Liner Regression with features:\n",
    "\n",
    "Test data\t\n",
    "\n",
    "- RMSE: \t\t0.92\t\n",
    "- MAE: \t\t0.65\n",
    "- R^2: \t\t0.14\n",
    "\n",
    "\n",
    "Training data\n",
    "\n",
    "- RMSE: \t\t0.85\n",
    "- MAE: \t\t0.65\n",
    "- R^2: \t\t0.14\n",
    "\n",
    "\n",
    "Difference\n",
    "\n",
    "- RMSE: \t\t0.07\n",
    "- MAE: \t\t-0.00\n",
    "- R^2: \t\t-0.00\n",
    "\n",
    "\n",
    "Best model parameters from randomized search: {'normalize': True}"
   ]
  }
 ],
 "metadata": {
  "kernelspec": {
   "display_name": "Python 3.9.13 ('new_env')",
   "language": "python",
   "name": "python3"
  },
  "language_info": {
   "codemirror_mode": {
    "name": "ipython",
    "version": 3
   },
   "file_extension": ".py",
   "mimetype": "text/x-python",
   "name": "python",
   "nbconvert_exporter": "python",
   "pygments_lexer": "ipython3",
   "version": "3.9.13"
  },
  "orig_nbformat": 4,
  "vscode": {
   "interpreter": {
    "hash": "3c229a7bb837f7622ff6522438b225aa15e7a80f2ac0a1c0d5851fa7ebe2f25d"
   }
  }
 },
 "nbformat": 4,
 "nbformat_minor": 2
}
