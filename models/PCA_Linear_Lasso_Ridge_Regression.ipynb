{
 "cells": [
  {
   "cell_type": "code",
   "execution_count": 112,
   "metadata": {},
   "outputs": [],
   "source": [
    "# import os\n",
    "# # os.chdir('..')\n",
    "# import supervised \n",
    "# from supervised import *"
   ]
  },
  {
   "cell_type": "code",
   "execution_count": 1,
   "metadata": {},
   "outputs": [],
   "source": [
    "import pandas as pd\n",
    "import numpy as np\n",
    "import matplotlib.pyplot as plt\n",
    "\n",
    "from sklearn.linear_model import LinearRegression, Ridge, RidgeCV, Lasso, LassoCV\n",
    "from sklearn.model_selection import KFold, cross_val_score, train_test_split\n",
    "from sklearn.preprocessing import StandardScaler\n",
    "\n",
    "from sklearn.decomposition import PCA\n",
    "\n",
    "import pickle"
   ]
  },
  {
   "cell_type": "code",
   "execution_count": 3,
   "metadata": {},
   "outputs": [],
   "source": [
    "# Read from extracted data\n",
    "df = pd.read_csv('data_for_modeling_final_2022-10-28_1227.csv')"
   ]
  },
  {
   "cell_type": "code",
   "execution_count": 5,
   "metadata": {},
   "outputs": [
    {
     "name": "stdout",
     "output_type": "stream",
     "text": [
      "['mkt_carrier_fl_num', 'op_carrier_fl_num', 'origin_airport_id', 'dest_airport_id', 'crs_dep_time', 'dep_delay', 'crs_arr_time', 'arr_delay', 'cancelled', 'diverted', 'crs_elapsed_time', 'air_time', 'distance_x', 'first_dep_time', 'total_add_gtime', 'longest_add_gtime', 'day', 'month', 'year_x', 'crs_arr_hrs', 'crs_dep_hrs', 'day_of_year', 'week_of_year', 'crs_dep_time_hour', 'fl_date_year', 'fl_date_week_number', 'fl_date_t-1_week_week_number', 'fl_date_t-1_year_year', 'fl_date_t-1_year_month', 'mean_dep_delay_carrier_origin_month', 'mean_arr_delay_carrier_origin_month', 'mean_dep_delay_carrier_origin_week', 'mean_arr_delay_carrier_origin_week', 'mean_dep_delay_carrier_origin_date', 'mean_arr_delay_carrier_origin_date', 'mean_dep_delay_carrier_origin_date_t-1_week', 'mean_arr_delay_carrier_origin_date_t-1_week', 'mean_dep_delay_carrier_origin_date_t-1_week_week_number', 'mean_arr_delay_carrier_origin_date_t-1_week_week_number', 'mean_dep_delay_carrier_origin_datet-1_year_week', 'mean_arr_delay_carrier_origin_datet-1_year_week', 'mean_dep_delay_carrier_origin_date_t-1_year_month', 'mean_arr_delay_carrier_origin_date_t-1_year_month', 'Unnamed: 0', 'departures_performed', 'distance_y', 'airline_id', 'year_y', 'mean_payload_per_departure', 'mean_seats_per_departure', 'mean_passengers_per_departure', 'mean_freight_per_departure', 'mean_mail_per_departure', 'mean_empty_seats_per_departure', 'origin_region_Midwest', 'origin_region_Northeast', 'origin_region_South', 'origin_region_West', 'dest_region_Midwest', 'dest_region_Northeast', 'dest_region_South', 'dest_region_West', 'dep_hrs_ctg_Afternoon', 'dep_hrs_ctg_Evening', 'dep_hrs_ctg_Morning', 'dep_hrs_ctg_Night', 'arr_hrs_ctg_Afternoon', 'arr_hrs_ctg_Evening', 'arr_hrs_ctg_Morning', 'arr_hrs_ctg_Night', 'day_of_week_Friday', 'day_of_week_Monday', 'day_of_week_Saturday', 'day_of_week_Sunday', 'day_of_week_Thursday', 'day_of_week_Tuesday', 'day_of_week_Wednesday', 'haul_length_long', 'haul_length_medium', 'haul_length_short']\n"
     ]
    }
   ],
   "source": [
    "print(df.columns.tolist())"
   ]
  },
  {
   "cell_type": "code",
   "execution_count": 6,
   "metadata": {},
   "outputs": [],
   "source": [
    "# Create list with the columns to be scaled.\n",
    "numeric_cols = [\n",
    "\n",
    "'dep_delay', 'arr_delay', 'month', 'year_x', 'crs_elapsed_time', 'distance_x',\n",
    "'mean_payload_per_departure', 'mean_seats_per_departure', 'mean_passengers_per_departure', \n",
    "'mean_freight_per_departure', 'mean_mail_per_departure', 'mean_empty_seats_per_departure',\n",
    "\n",
    "'mean_dep_delay_carrier_origin_month', 'mean_arr_delay_carrier_origin_month', \n",
    "'mean_dep_delay_carrier_origin_week', 'mean_arr_delay_carrier_origin_week', \n",
    "'mean_dep_delay_carrier_origin_date', 'mean_arr_delay_carrier_origin_date', \n",
    "'mean_dep_delay_carrier_origin_date_t-1_week', 'mean_arr_delay_carrier_origin_date_t-1_week', \n",
    "'mean_dep_delay_carrier_origin_date_t-1_week_week_number', \n",
    "'mean_arr_delay_carrier_origin_date_t-1_week_week_number', \n",
    "'mean_dep_delay_carrier_origin_datet-1_year_week', \n",
    "'mean_arr_delay_carrier_origin_datet-1_year_week', \n",
    "'mean_dep_delay_carrier_origin_date_t-1_year_month', \n",
    "'mean_arr_delay_carrier_origin_date_t-1_year_month'\n",
    "]\n",
    "\n",
    "\n",
    "# Create a list with the dummy/categorical variables:\n",
    "cat_cols = [\n",
    "\n",
    "'origin_region_Midwest', 'origin_region_Northeast',\n",
    "'origin_region_South', 'origin_region_West', 'dest_region_Midwest',\n",
    "'dest_region_Northeast', 'dest_region_South', 'dest_region_West',\n",
    "\n",
    "'arr_hrs_ctg_Afternoon', 'arr_hrs_ctg_Evening', 'arr_hrs_ctg_Morning',\n",
    "'arr_hrs_ctg_Night', \n",
    "\n",
    "'dep_hrs_ctg_Afternoon', 'dep_hrs_ctg_Evening', 'dep_hrs_ctg_Morning', \n",
    "'dep_hrs_ctg_Night',\n",
    "\n",
    "'day_of_week_Friday', 'day_of_week_Monday', 'day_of_week_Saturday', \n",
    "'day_of_week_Sunday', 'day_of_week_Thursday', 'day_of_week_Tuesday', \n",
    "'day_of_week_Wednesday',\n",
    "\n",
    "'haul_length_long', 'haul_length_medium', 'haul_length_short'\n",
    "\n",
    "       ]"
   ]
  },
  {
   "cell_type": "code",
   "execution_count": 7,
   "metadata": {},
   "outputs": [],
   "source": [
    "# 2022-10-27 8:57 Here is the function to scale the data. Please read the function documentation. \n",
    "# This function has been saved to the midterm_functions.py file.\n",
    "def scale_data(df, numeric_cols, cat_cols):\n",
    "    \"\"\"\n",
    "    - Perform standardization (StandardScaler) on the numeric_cols of the dataframe. \n",
    "    - combines both numeric and categorical back to the entire feature dataframe.\n",
    "\n",
    "    Params:\n",
    "    - df: Dataframe object with both feature and target data. \n",
    "    - numeric_cols: Name of the numeric columns to be scaled.\n",
    "    - cat_cols: Name of the categorical columns (dummy variables) NOT to be scaled.\n",
    "\n",
    "    Returns: Dataframe with numeric data scaled and categorical data as-is.\n",
    "\n",
    "    \"\"\"\n",
    "    # Create the scaler based on the training dataset\n",
    "    scaler = StandardScaler()\n",
    "    scaler.fit(df[numeric_cols])\n",
    "    X_numeric_scaled = scaler.transform(df[numeric_cols])\n",
    "    X_categorical = df[cat_cols].to_numpy()\n",
    "    X = pd.DataFrame(np.hstack((X_categorical, X_numeric_scaled)), columns=cat_cols + numeric_cols)\n",
    "    return X"
   ]
  },
  {
   "cell_type": "code",
   "execution_count": 8,
   "metadata": {},
   "outputs": [],
   "source": [
    "# Call the function:\n",
    "df_scaled = scale_data(df, numeric_cols, cat_cols)"
   ]
  },
  {
   "cell_type": "code",
   "execution_count": 9,
   "metadata": {},
   "outputs": [],
   "source": [
    "X = df_scaled.drop('arr_delay', axis = 1)   # features\n",
    "y = df_scaled['arr_delay']    # labels"
   ]
  },
  {
   "cell_type": "code",
   "execution_count": 10,
   "metadata": {},
   "outputs": [],
   "source": [
    "X_train_scaled, X_test_scaled, y_train, y_test = train_test_split(X, y, test_size=0.2, random_state=42)"
   ]
  },
  {
   "cell_type": "code",
   "execution_count": 11,
   "metadata": {},
   "outputs": [],
   "source": [
    "from sklearn.metrics import mean_squared_error\n",
    "\n",
    "# Define cross-validation folds\n",
    "cv = KFold(n_splits=10, shuffle=True, random_state=42)"
   ]
  },
  {
   "cell_type": "markdown",
   "metadata": {},
   "source": [
    "#### 1. Linear Regression (no regularization)"
   ]
  },
  {
   "cell_type": "code",
   "execution_count": 12,
   "metadata": {},
   "outputs": [
    {
     "data": {
      "text/plain": [
       "0.6601623263099603"
      ]
     },
     "execution_count": 12,
     "metadata": {},
     "output_type": "execute_result"
    }
   ],
   "source": [
    "# Linear Regression\n",
    "lin_reg = LinearRegression().fit(X_train_scaled, y_train)\n",
    "\n",
    "# Get R2 score\n",
    "lin_reg.score(X_train_scaled, y_train)"
   ]
  },
  {
   "cell_type": "code",
   "execution_count": 13,
   "metadata": {},
   "outputs": [
    {
     "data": {
      "text/plain": [
       "array([0.58652646, 0.58492396, 0.58207804, 0.58260635, 0.58219934,\n",
       "       0.58330443, 0.58520995, 0.58234368, 0.58281361, 0.57971797])"
      ]
     },
     "execution_count": 13,
     "metadata": {},
     "output_type": "execute_result"
    }
   ],
   "source": [
    "# lr_scores = -1 * cross_val_score(lin_reg, \n",
    "#                                  X_train_scaled, \n",
    "#                                  y_train, \n",
    "#                                  cv=cv, \n",
    "#                                  scoring='neg_root_mean_squared_error')\n",
    "\n",
    "lr_scores = -1 * cross_val_score(lin_reg, X_train_scaled, y_train, cv=cv, scoring='neg_root_mean_squared_error')\n",
    "lr_scores"
   ]
  },
  {
   "cell_type": "code",
   "execution_count": 14,
   "metadata": {},
   "outputs": [
    {
     "data": {
      "text/plain": [
       "0.5831723790850023"
      ]
     },
     "execution_count": 14,
     "metadata": {},
     "output_type": "execute_result"
    }
   ],
   "source": [
    "lr_score_train = np.mean(lr_scores)\n",
    "lr_score_train"
   ]
  },
  {
   "cell_type": "markdown",
   "metadata": {},
   "source": [
    "Predict"
   ]
  },
  {
   "cell_type": "code",
   "execution_count": 15,
   "metadata": {},
   "outputs": [
    {
     "data": {
      "text/plain": [
       "0.5830204931769699"
      ]
     },
     "execution_count": 15,
     "metadata": {},
     "output_type": "execute_result"
    }
   ],
   "source": [
    "y_predicted = lin_reg.predict(X_test_scaled)\n",
    "lr_score_test = mean_squared_error(y_test, y_predicted, squared=False) # RMSE instead of MSE\n",
    "lr_score_test"
   ]
  },
  {
   "cell_type": "markdown",
   "metadata": {},
   "source": [
    "#### 2. Lasso Regression (L1 regularization)"
   ]
  },
  {
   "cell_type": "code",
   "execution_count": 16,
   "metadata": {},
   "outputs": [],
   "source": [
    "lasso_reg = LassoCV().fit(X_train_scaled, y_train)"
   ]
  },
  {
   "cell_type": "code",
   "execution_count": 17,
   "metadata": {},
   "outputs": [
    {
     "data": {
      "text/plain": [
       "0.6596314776845965"
      ]
     },
     "execution_count": 17,
     "metadata": {},
     "output_type": "execute_result"
    }
   ],
   "source": [
    "# Get R2 score\n",
    "lasso_reg.score(X_train_scaled, y_train)"
   ]
  },
  {
   "cell_type": "code",
   "execution_count": 18,
   "metadata": {},
   "outputs": [
    {
     "data": {
      "text/plain": [
       "array([0.58692216, 0.58533401, 0.5825506 , 0.58299155, 0.58273657,\n",
       "       0.58380735, 0.58569682, 0.5828734 , 0.58322379, 0.58012779])"
      ]
     },
     "execution_count": 18,
     "metadata": {},
     "output_type": "execute_result"
    }
   ],
   "source": [
    "lasso_scores = -1 * cross_val_score(lasso_reg, \n",
    "                                    X_train_scaled, \n",
    "                                    y_train, \n",
    "                                    cv=cv, \n",
    "                                    scoring='neg_root_mean_squared_error')\n",
    "lasso_scores"
   ]
  },
  {
   "cell_type": "code",
   "execution_count": 19,
   "metadata": {},
   "outputs": [
    {
     "data": {
      "text/plain": [
       "0.5836264049603407"
      ]
     },
     "execution_count": 19,
     "metadata": {},
     "output_type": "execute_result"
    }
   ],
   "source": [
    "lasso_score_train = np.mean(lasso_scores)\n",
    "lasso_score_train"
   ]
  },
  {
   "cell_type": "markdown",
   "metadata": {},
   "source": [
    "Predict"
   ]
  },
  {
   "cell_type": "code",
   "execution_count": 20,
   "metadata": {},
   "outputs": [
    {
     "data": {
      "text/plain": [
       "0.5834084318513465"
      ]
     },
     "execution_count": 20,
     "metadata": {},
     "output_type": "execute_result"
    }
   ],
   "source": [
    "y_predicted = lasso_reg.predict(X_test_scaled)\n",
    "lasso_score_test = mean_squared_error(y_test, y_predicted, squared=False)\n",
    "lasso_score_test"
   ]
  },
  {
   "cell_type": "markdown",
   "metadata": {},
   "source": [
    "#### 3. Ridge Regression (L2 regularization)"
   ]
  },
  {
   "cell_type": "code",
   "execution_count": 21,
   "metadata": {},
   "outputs": [],
   "source": [
    "ridge_reg = RidgeCV().fit(X_train_scaled, y_train)"
   ]
  },
  {
   "cell_type": "code",
   "execution_count": 22,
   "metadata": {},
   "outputs": [
    {
     "data": {
      "text/plain": [
       "0.6601629769710282"
      ]
     },
     "execution_count": 22,
     "metadata": {},
     "output_type": "execute_result"
    }
   ],
   "source": [
    "# Get R2 score\n",
    "ridge_reg.score(X_train_scaled, y_train)"
   ]
  },
  {
   "cell_type": "code",
   "execution_count": 23,
   "metadata": {},
   "outputs": [
    {
     "data": {
      "text/plain": [
       "array([0.5865254 , 0.58492058, 0.58207884, 0.58259928, 0.58219771,\n",
       "       0.58330334, 0.58521367, 0.58234274, 0.58281086, 0.57971458])"
      ]
     },
     "execution_count": 23,
     "metadata": {},
     "output_type": "execute_result"
    }
   ],
   "source": [
    "ridge_scores = -1 * cross_val_score(ridge_reg, \n",
    "                                    X_train_scaled, \n",
    "                                    y_train, \n",
    "                                    cv=cv, \n",
    "                                    scoring='neg_root_mean_squared_error')\n",
    "ridge_scores"
   ]
  },
  {
   "cell_type": "code",
   "execution_count": 24,
   "metadata": {},
   "outputs": [
    {
     "data": {
      "text/plain": [
       "0.5831706989080073"
      ]
     },
     "execution_count": 24,
     "metadata": {},
     "output_type": "execute_result"
    }
   ],
   "source": [
    "ridge_score_train = np.mean(ridge_scores)\n",
    "ridge_score_train"
   ]
  },
  {
   "cell_type": "markdown",
   "metadata": {},
   "source": [
    "Predict"
   ]
  },
  {
   "cell_type": "code",
   "execution_count": 25,
   "metadata": {},
   "outputs": [
    {
     "data": {
      "text/plain": [
       "0.5830198893554754"
      ]
     },
     "execution_count": 25,
     "metadata": {},
     "output_type": "execute_result"
    }
   ],
   "source": [
    "y_predicted = ridge_reg.predict(X_test_scaled)\n",
    "ridge_score_test = mean_squared_error(y_test, y_predicted, squared=False)\n",
    "ridge_score_test"
   ]
  },
  {
   "cell_type": "markdown",
   "metadata": {},
   "source": [
    "#### Principal Components Regression\n",
    "Evaluate for different number of principal components"
   ]
  },
  {
   "cell_type": "code",
   "execution_count": 26,
   "metadata": {},
   "outputs": [],
   "source": [
    "lin_reg = LinearRegression()\n",
    "rmse_list = []"
   ]
  },
  {
   "cell_type": "code",
   "execution_count": 27,
   "metadata": {},
   "outputs": [
    {
     "data": {
      "text/plain": [
       "(3327693, 51)"
      ]
     },
     "execution_count": 27,
     "metadata": {},
     "output_type": "execute_result"
    }
   ],
   "source": [
    "# First generate all the principal components\n",
    "pca = PCA()\n",
    "X_train_pc = pca.fit_transform(X_train_scaled)\n",
    "X_train_pc.shape"
   ]
  },
  {
   "cell_type": "code",
   "execution_count": 28,
   "metadata": {},
   "outputs": [
    {
     "data": {
      "text/plain": [
       "array([4.73056930e-01, 1.13963268e-01, 6.74573391e-02, 4.58483874e-02,\n",
       "       3.79874243e-02, 3.72077100e-02, 3.50013274e-02, 2.98303461e-02,\n",
       "       2.47129681e-02, 2.15904166e-02, 1.48066571e-02, 1.16552805e-02,\n",
       "       8.71822349e-03, 7.75769066e-03, 7.17091006e-03, 6.70116549e-03,\n",
       "       5.57394776e-03, 5.30682850e-03, 5.24875945e-03, 5.18241313e-03,\n",
       "       5.15403818e-03, 5.12549860e-03, 5.10356480e-03, 4.69061750e-03,\n",
       "       4.67763701e-03, 4.30020014e-03, 3.40001623e-03, 1.54794524e-03,\n",
       "       6.65476791e-04, 2.94738018e-04, 2.62274035e-04, 2.38566679e-26,\n",
       "       4.08278940e-27, 2.87644462e-27, 1.82477921e-27, 9.57263453e-28,\n",
       "       4.12481718e-28, 6.99043133e-30, 3.28352521e-30, 6.35071149e-32,\n",
       "       1.64508681e-32, 1.13047454e-32, 4.21882704e-33, 2.40113214e-33,\n",
       "       2.40113214e-33, 2.40113214e-33, 2.40113214e-33, 2.40113214e-33,\n",
       "       2.40113214e-33, 1.53168729e-33, 8.96787819e-34])"
      ]
     },
     "execution_count": 28,
     "metadata": {},
     "output_type": "execute_result"
    }
   ],
   "source": [
    "# View explained variance ratio for each principal component\n",
    "pca.explained_variance_ratio_"
   ]
  },
  {
   "cell_type": "code",
   "execution_count": 29,
   "metadata": {},
   "outputs": [
    {
     "data": {
      "text/html": [
       "<div>\n",
       "<style scoped>\n",
       "    .dataframe tbody tr th:only-of-type {\n",
       "        vertical-align: middle;\n",
       "    }\n",
       "\n",
       "    .dataframe tbody tr th {\n",
       "        vertical-align: top;\n",
       "    }\n",
       "\n",
       "    .dataframe thead th {\n",
       "        text-align: right;\n",
       "    }\n",
       "</style>\n",
       "<table border=\"1\" class=\"dataframe\">\n",
       "  <thead>\n",
       "    <tr style=\"text-align: right;\">\n",
       "      <th></th>\n",
       "      <th>0</th>\n",
       "      <th>1</th>\n",
       "      <th>2</th>\n",
       "      <th>3</th>\n",
       "      <th>4</th>\n",
       "      <th>5</th>\n",
       "      <th>6</th>\n",
       "      <th>7</th>\n",
       "      <th>8</th>\n",
       "      <th>9</th>\n",
       "      <th>...</th>\n",
       "      <th>41</th>\n",
       "      <th>42</th>\n",
       "      <th>43</th>\n",
       "      <th>44</th>\n",
       "      <th>45</th>\n",
       "      <th>46</th>\n",
       "      <th>47</th>\n",
       "      <th>48</th>\n",
       "      <th>49</th>\n",
       "      <th>50</th>\n",
       "    </tr>\n",
       "  </thead>\n",
       "  <tbody>\n",
       "    <tr>\n",
       "      <th>0</th>\n",
       "      <td>0.007045</td>\n",
       "      <td>-0.011484</td>\n",
       "      <td>0.013156</td>\n",
       "      <td>0.002075</td>\n",
       "      <td>0.009187</td>\n",
       "      <td>0.001201</td>\n",
       "      <td>0.004975</td>\n",
       "      <td>0.014745</td>\n",
       "      <td>0.021714</td>\n",
       "      <td>0.005898</td>\n",
       "      <td>...</td>\n",
       "      <td>-0.000000e+00</td>\n",
       "      <td>-0.000000e+00</td>\n",
       "      <td>0.000000e+00</td>\n",
       "      <td>0.000000e+00</td>\n",
       "      <td>0.000000e+00</td>\n",
       "      <td>-0.000000e+00</td>\n",
       "      <td>-0.000000e+00</td>\n",
       "      <td>-0.000000e+00</td>\n",
       "      <td>0.000000e+00</td>\n",
       "      <td>0.000000e+00</td>\n",
       "    </tr>\n",
       "    <tr>\n",
       "      <th>1</th>\n",
       "      <td>0.020094</td>\n",
       "      <td>0.007624</td>\n",
       "      <td>-0.021918</td>\n",
       "      <td>0.038090</td>\n",
       "      <td>-0.021732</td>\n",
       "      <td>-0.014811</td>\n",
       "      <td>-0.023861</td>\n",
       "      <td>0.091081</td>\n",
       "      <td>-0.026861</td>\n",
       "      <td>0.005580</td>\n",
       "      <td>...</td>\n",
       "      <td>1.671124e-16</td>\n",
       "      <td>-1.135143e-16</td>\n",
       "      <td>-1.174776e-16</td>\n",
       "      <td>1.671040e-16</td>\n",
       "      <td>2.252254e-16</td>\n",
       "      <td>-1.140874e-17</td>\n",
       "      <td>3.094615e-18</td>\n",
       "      <td>1.462619e-17</td>\n",
       "      <td>2.115782e-18</td>\n",
       "      <td>1.128813e-17</td>\n",
       "    </tr>\n",
       "    <tr>\n",
       "      <th>2</th>\n",
       "      <td>0.017583</td>\n",
       "      <td>-0.029619</td>\n",
       "      <td>0.025464</td>\n",
       "      <td>-0.060917</td>\n",
       "      <td>-0.008926</td>\n",
       "      <td>0.005118</td>\n",
       "      <td>-0.010512</td>\n",
       "      <td>0.006163</td>\n",
       "      <td>0.014730</td>\n",
       "      <td>0.005655</td>\n",
       "      <td>...</td>\n",
       "      <td>7.338109e-18</td>\n",
       "      <td>1.749377e-16</td>\n",
       "      <td>-1.747321e-16</td>\n",
       "      <td>-1.096252e-16</td>\n",
       "      <td>-2.767256e-18</td>\n",
       "      <td>-1.272275e-17</td>\n",
       "      <td>-1.104615e-17</td>\n",
       "      <td>-6.814113e-18</td>\n",
       "      <td>-1.419467e-16</td>\n",
       "      <td>7.566888e-17</td>\n",
       "    </tr>\n",
       "    <tr>\n",
       "      <th>3</th>\n",
       "      <td>-0.044722</td>\n",
       "      <td>0.033479</td>\n",
       "      <td>-0.016702</td>\n",
       "      <td>0.020751</td>\n",
       "      <td>0.021471</td>\n",
       "      <td>0.008492</td>\n",
       "      <td>0.029399</td>\n",
       "      <td>-0.111988</td>\n",
       "      <td>-0.009583</td>\n",
       "      <td>-0.017133</td>\n",
       "      <td>...</td>\n",
       "      <td>-5.352576e-17</td>\n",
       "      <td>2.950164e-17</td>\n",
       "      <td>2.194039e-17</td>\n",
       "      <td>-5.751320e-17</td>\n",
       "      <td>1.982873e-17</td>\n",
       "      <td>4.604622e-17</td>\n",
       "      <td>1.926025e-18</td>\n",
       "      <td>-3.583017e-19</td>\n",
       "      <td>2.921719e-17</td>\n",
       "      <td>7.641799e-17</td>\n",
       "    </tr>\n",
       "    <tr>\n",
       "      <th>4</th>\n",
       "      <td>0.002819</td>\n",
       "      <td>-0.015429</td>\n",
       "      <td>0.017147</td>\n",
       "      <td>-0.007168</td>\n",
       "      <td>-0.009060</td>\n",
       "      <td>-0.002575</td>\n",
       "      <td>-0.006368</td>\n",
       "      <td>0.042595</td>\n",
       "      <td>0.006393</td>\n",
       "      <td>-0.009449</td>\n",
       "      <td>...</td>\n",
       "      <td>3.945384e-04</td>\n",
       "      <td>4.212509e-05</td>\n",
       "      <td>7.073770e-05</td>\n",
       "      <td>1.048189e-04</td>\n",
       "      <td>-1.609674e-05</td>\n",
       "      <td>2.336759e-05</td>\n",
       "      <td>-8.253655e-17</td>\n",
       "      <td>1.930291e-17</td>\n",
       "      <td>4.714485e-06</td>\n",
       "      <td>1.374419e-04</td>\n",
       "    </tr>\n",
       "  </tbody>\n",
       "</table>\n",
       "<p>5 rows × 51 columns</p>\n",
       "</div>"
      ],
      "text/plain": [
       "         0         1         2         3         4         5         6   \\\n",
       "0  0.007045 -0.011484  0.013156  0.002075  0.009187  0.001201  0.004975   \n",
       "1  0.020094  0.007624 -0.021918  0.038090 -0.021732 -0.014811 -0.023861   \n",
       "2  0.017583 -0.029619  0.025464 -0.060917 -0.008926  0.005118 -0.010512   \n",
       "3 -0.044722  0.033479 -0.016702  0.020751  0.021471  0.008492  0.029399   \n",
       "4  0.002819 -0.015429  0.017147 -0.007168 -0.009060 -0.002575 -0.006368   \n",
       "\n",
       "         7         8         9   ...            41            42  \\\n",
       "0  0.014745  0.021714  0.005898  ... -0.000000e+00 -0.000000e+00   \n",
       "1  0.091081 -0.026861  0.005580  ...  1.671124e-16 -1.135143e-16   \n",
       "2  0.006163  0.014730  0.005655  ...  7.338109e-18  1.749377e-16   \n",
       "3 -0.111988 -0.009583 -0.017133  ... -5.352576e-17  2.950164e-17   \n",
       "4  0.042595  0.006393 -0.009449  ...  3.945384e-04  4.212509e-05   \n",
       "\n",
       "             43            44            45            46            47  \\\n",
       "0  0.000000e+00  0.000000e+00  0.000000e+00 -0.000000e+00 -0.000000e+00   \n",
       "1 -1.174776e-16  1.671040e-16  2.252254e-16 -1.140874e-17  3.094615e-18   \n",
       "2 -1.747321e-16 -1.096252e-16 -2.767256e-18 -1.272275e-17 -1.104615e-17   \n",
       "3  2.194039e-17 -5.751320e-17  1.982873e-17  4.604622e-17  1.926025e-18   \n",
       "4  7.073770e-05  1.048189e-04 -1.609674e-05  2.336759e-05 -8.253655e-17   \n",
       "\n",
       "             48            49            50  \n",
       "0 -0.000000e+00  0.000000e+00  0.000000e+00  \n",
       "1  1.462619e-17  2.115782e-18  1.128813e-17  \n",
       "2 -6.814113e-18 -1.419467e-16  7.566888e-17  \n",
       "3 -3.583017e-19  2.921719e-17  7.641799e-17  \n",
       "4  1.930291e-17  4.714485e-06  1.374419e-04  \n",
       "\n",
       "[5 rows x 51 columns]"
      ]
     },
     "execution_count": 29,
     "metadata": {},
     "output_type": "execute_result"
    }
   ],
   "source": [
    "# View first 5 rows of all principal components\n",
    "pd.DataFrame(pca.components_.T).loc[:4,:]"
   ]
  },
  {
   "cell_type": "code",
   "execution_count": 30,
   "metadata": {},
   "outputs": [],
   "source": [
    "# Loop through different count of principal components for linear regression\n",
    "for i in range(1, X_train_pc.shape[1]+1):\n",
    "    rmse_score = -1 * cross_val_score(lin_reg, \n",
    "                                      X_train_pc[:,:i], # Use first k principal components\n",
    "                                      y_train, \n",
    "                                      cv=cv, \n",
    "                                      scoring='neg_root_mean_squared_error').mean()\n",
    "    rmse_list.append(rmse_score)"
   ]
  },
  {
   "cell_type": "code",
   "execution_count": 31,
   "metadata": {},
   "outputs": [
    {
     "data": {
      "text/plain": [
       "[0.9977638879264304,\n",
       " 0.9977546681814056,\n",
       " 0.9976629542768188,\n",
       " 0.9967077968493354,\n",
       " 0.8831638449387267,\n",
       " 0.6936586116486423,\n",
       " 0.643188221333692,\n",
       " 0.6281601200106703,\n",
       " 0.6280771110259916,\n",
       " 0.5917172614536768,\n",
       " 0.5917168005548278,\n",
       " 0.591650685246794,\n",
       " 0.5915888289439092,\n",
       " 0.5915865409464527,\n",
       " 0.5915857676219044,\n",
       " 0.5912778706008628,\n",
       " 0.5911405629851194,\n",
       " 0.5911377270974525,\n",
       " 0.5910948027483957,\n",
       " 0.5910781338135974,\n",
       " 0.5910466824805959,\n",
       " 0.5910406239582707,\n",
       " 0.590913926671444,\n",
       " 0.5909041022051642,\n",
       " 0.590663380086468,\n",
       " 0.5906536737404438,\n",
       " 0.5894237607591795,\n",
       " 0.5894216502372163,\n",
       " 0.5893127308578527,\n",
       " 0.5839201117337802,\n",
       " 0.5831706989535121,\n",
       " 0.5831708821942401,\n",
       " 0.5831706823738575,\n",
       " 0.5831708264887836,\n",
       " 0.5831714437054003,\n",
       " 0.5831717946121648,\n",
       " 0.5831718371344675,\n",
       " 0.5831721551194751,\n",
       " 0.583174812905492,\n",
       " 0.5831817939280513,\n",
       " 0.5831819341171263,\n",
       " 0.5831818598387161,\n",
       " 0.5831826932842776,\n",
       " 0.5831828424693721,\n",
       " 0.5831842315807061,\n",
       " 0.5831859478000438,\n",
       " 0.5832350957036463,\n",
       " 0.583232586650696,\n",
       " 0.5832336968301481,\n",
       " 0.5832364089714691,\n",
       " 0.5832363562045019]"
      ]
     },
     "execution_count": 31,
     "metadata": {},
     "output_type": "execute_result"
    }
   ],
   "source": [
    "rmse_list"
   ]
  },
  {
   "cell_type": "code",
   "execution_count": 32,
   "metadata": {},
   "outputs": [
    {
     "data": {
      "image/png": "[encoded data removed]",
      "text/plain": [
       "<Figure size 432x288 with 1 Axes>"
      ]
     },
     "metadata": {
      "needs_background": "light"
     },
     "output_type": "display_data"
    }
   ],
   "source": [
    "# Plot RMSE vs count of principal components used\n",
    "plt.plot(rmse_list, '-o')\n",
    "plt.xlabel('Number of principal components in regression')\n",
    "plt.ylabel('Cross-Validation RMSE')\n",
    "plt.title('Wine Quality')\n",
    "plt.xlim(xmin=-1);\n",
    "plt.xticks(np.arange(X_train_pc.shape[1]), np.arange(1, X_train_pc.shape[1]+1))\n",
    "plt.axhline(y=lr_score_train, color='g', linestyle='-');"
   ]
  },
  {
   "cell_type": "markdown",
   "metadata": {},
   "source": [
    "We see that the training set performance of PCR improves (i.e., RMSE decreases) with more principal components, in line with what we expect.\n",
    "\n",
    "The green line is the RMSE benchmark from the baseline standard linear regression model using all original features.\n",
    "\n",
    "The plot shows that the lowest cross-validation RMSE (minimum point in the plot) occurs when there are M=10 or 30 principal components. The RMSE at M=10 is, in fact, slightly below the green line."
   ]
  },
  {
   "cell_type": "code",
   "execution_count": 41,
   "metadata": {},
   "outputs": [],
   "source": [
    "# Visually determine optimal number of principal components\n",
    "# best_pc_num = 10\n",
    "best_pc_num = 30"
   ]
  },
  {
   "cell_type": "markdown",
   "metadata": {},
   "source": [
    "Predict"
   ]
  },
  {
   "cell_type": "code",
   "execution_count": 42,
   "metadata": {},
   "outputs": [],
   "source": [
    "# Train model on training set\n",
    "lin_reg_pc = LinearRegression().fit(X_train_pc[:,:best_pc_num], y_train)"
   ]
  },
  {
   "cell_type": "code",
   "execution_count": 43,
   "metadata": {},
   "outputs": [
    {
     "data": {
      "text/plain": [
       "0.6592885488747222"
      ]
     },
     "execution_count": 43,
     "metadata": {},
     "output_type": "execute_result"
    }
   ],
   "source": [
    "# Get R2 score\n",
    "lin_reg_pc.score(X_train_pc[:,:best_pc_num], y_train)"
   ]
  },
  {
   "cell_type": "code",
   "execution_count": 44,
   "metadata": {},
   "outputs": [
    {
     "data": {
      "text/plain": [
       "0.5839201117337802"
      ]
     },
     "execution_count": 44,
     "metadata": {},
     "output_type": "execute_result"
    }
   ],
   "source": [
    "pcr_score_train = -1 * cross_val_score(lin_reg_pc, \n",
    "                                       X_train_pc[:,:best_pc_num], \n",
    "                                       y_train, \n",
    "                                       cv=cv, \n",
    "                                       scoring='neg_root_mean_squared_error').mean()\n",
    "pcr_score_train"
   ]
  },
  {
   "cell_type": "code",
   "execution_count": 45,
   "metadata": {},
   "outputs": [
    {
     "data": {
      "text/plain": [
       "(831924, 30)"
      ]
     },
     "execution_count": 45,
     "metadata": {},
     "output_type": "execute_result"
    }
   ],
   "source": [
    "# Get principal components of test set\n",
    "X_test_pc = pca.transform(X_test_scaled)[:,:best_pc_num]\n",
    "X_test_pc.shape"
   ]
  },
  {
   "cell_type": "code",
   "execution_count": 46,
   "metadata": {},
   "outputs": [
    {
     "data": {
      "text/plain": [
       "0.5836478977018483"
      ]
     },
     "execution_count": 46,
     "metadata": {},
     "output_type": "execute_result"
    }
   ],
   "source": [
    "# Predict on test data\n",
    "preds = lin_reg_pc.predict(X_test_pc)\n",
    "pcr_score_test = mean_squared_error(y_test, preds, squared=False)\n",
    "pcr_score_test"
   ]
  },
  {
   "cell_type": "markdown",
   "metadata": {},
   "source": [
    "### Evaluation"
   ]
  },
  {
   "cell_type": "code",
   "execution_count": 47,
   "metadata": {},
   "outputs": [
    {
     "data": {
      "text/html": [
       "<div>\n",
       "<style scoped>\n",
       "    .dataframe tbody tr th:only-of-type {\n",
       "        vertical-align: middle;\n",
       "    }\n",
       "\n",
       "    .dataframe tbody tr th {\n",
       "        vertical-align: top;\n",
       "    }\n",
       "\n",
       "    .dataframe thead th {\n",
       "        text-align: right;\n",
       "    }\n",
       "</style>\n",
       "<table border=\"1\" class=\"dataframe\">\n",
       "  <thead>\n",
       "    <tr style=\"text-align: right;\">\n",
       "      <th></th>\n",
       "      <th>RMSE (Train Set)</th>\n",
       "    </tr>\n",
       "  </thead>\n",
       "  <tbody>\n",
       "    <tr>\n",
       "      <th>Linear Regression</th>\n",
       "      <td>0.583</td>\n",
       "    </tr>\n",
       "    <tr>\n",
       "      <th>Lasso Regression</th>\n",
       "      <td>0.584</td>\n",
       "    </tr>\n",
       "    <tr>\n",
       "      <th>Ridge Regression</th>\n",
       "      <td>0.583</td>\n",
       "    </tr>\n",
       "    <tr>\n",
       "      <th>PCR (30 components)</th>\n",
       "      <td>0.584</td>\n",
       "    </tr>\n",
       "  </tbody>\n",
       "</table>\n",
       "</div>"
      ],
      "text/plain": [
       "                     RMSE (Train Set)\n",
       "Linear Regression               0.583\n",
       "Lasso Regression                0.584\n",
       "Ridge Regression                0.583\n",
       "PCR (30 components)             0.584"
      ]
     },
     "execution_count": 47,
     "metadata": {},
     "output_type": "execute_result"
    }
   ],
   "source": [
    "train_metrics = np.array([round(lr_score_train,3), \n",
    "                          round(lasso_score_train,3), \n",
    "                          round(ridge_score_train,3), \n",
    "                          round(pcr_score_train,3)]) \n",
    "train_metrics = pd.DataFrame(train_metrics, columns=['RMSE (Train Set)'])\n",
    "train_metrics.index = ['Linear Regression', \n",
    "                       'Lasso Regression', \n",
    "                       'Ridge Regression', \n",
    "                       f'PCR ({best_pc_num} components)']\n",
    "train_metrics"
   ]
  },
  {
   "cell_type": "code",
   "execution_count": 48,
   "metadata": {},
   "outputs": [
    {
     "data": {
      "text/html": [
       "<div>\n",
       "<style scoped>\n",
       "    .dataframe tbody tr th:only-of-type {\n",
       "        vertical-align: middle;\n",
       "    }\n",
       "\n",
       "    .dataframe tbody tr th {\n",
       "        vertical-align: top;\n",
       "    }\n",
       "\n",
       "    .dataframe thead th {\n",
       "        text-align: right;\n",
       "    }\n",
       "</style>\n",
       "<table border=\"1\" class=\"dataframe\">\n",
       "  <thead>\n",
       "    <tr style=\"text-align: right;\">\n",
       "      <th></th>\n",
       "      <th>RMSE (Test Set)</th>\n",
       "    </tr>\n",
       "  </thead>\n",
       "  <tbody>\n",
       "    <tr>\n",
       "      <th>Linear Regression</th>\n",
       "      <td>0.583</td>\n",
       "    </tr>\n",
       "    <tr>\n",
       "      <th>Lasso Regression</th>\n",
       "      <td>0.583</td>\n",
       "    </tr>\n",
       "    <tr>\n",
       "      <th>Ridge Regression</th>\n",
       "      <td>0.583</td>\n",
       "    </tr>\n",
       "    <tr>\n",
       "      <th>PCR (30 components)</th>\n",
       "      <td>0.584</td>\n",
       "    </tr>\n",
       "  </tbody>\n",
       "</table>\n",
       "</div>"
      ],
      "text/plain": [
       "                     RMSE (Test Set)\n",
       "Linear Regression              0.583\n",
       "Lasso Regression               0.583\n",
       "Ridge Regression               0.583\n",
       "PCR (30 components)            0.584"
      ]
     },
     "execution_count": 48,
     "metadata": {},
     "output_type": "execute_result"
    }
   ],
   "source": [
    "test_metrics = np.array([round(lr_score_test,3), \n",
    "                         round(lasso_score_test,3), \n",
    "                         round(ridge_score_test,3), \n",
    "                         round(pcr_score_test,3)]) \n",
    "test_metrics = pd.DataFrame(test_metrics, columns=['RMSE (Test Set)'])\n",
    "test_metrics.index = ['Linear Regression', \n",
    "                      'Lasso Regression', \n",
    "                      'Ridge Regression', \n",
    "                      f'PCR ({best_pc_num} components)']\n",
    "test_metrics"
   ]
  },
  {
   "cell_type": "markdown",
   "metadata": {},
   "source": [
    "#### Overwiew\n",
    "\n",
    "Liner Regression with features:\n",
    "\n",
    "Test data\t\n",
    "\n",
    "- RMSE: \t\t0.92\t\n",
    "- MAE: \t\t0.65\n",
    "- R^2: \t\t0.14\n",
    "\n",
    "\n",
    "Training data\n",
    "\n",
    "- RMSE: \t\t0.85\n",
    "- MAE: \t\t0.65\n",
    "- R^2: \t\t0.14\n",
    "\n",
    "\n",
    "Difference\n",
    "\n",
    "- RMSE: \t\t0.07\n",
    "- MAE: \t\t-0.00\n",
    "- R^2: \t\t-0.00\n",
    "\n",
    "\n",
    "Best model parameters from randomized search: {'normalize': True}"
   ]
  }
 ],
 "metadata": {
  "kernelspec": {
   "display_name": "Python 3.9.13 ('new_env')",
   "language": "python",
   "name": "python3"
  },
  "language_info": {
   "codemirror_mode": {
    "name": "ipython",
    "version": 3
   },
   "file_extension": ".py",
   "mimetype": "text/x-python",
   "name": "python",
   "nbconvert_exporter": "python",
   "pygments_lexer": "ipython3",
   "version": "3.9.13"
  },
  "orig_nbformat": 4,
  "vscode": {
   "interpreter": {
    "hash": "3c229a7bb837f7622ff6522438b225aa15e7a80f2ac0a1c0d5851fa7ebe2f25d"
   }
  }
 },
 "nbformat": 4,
 "nbformat_minor": 2
}
