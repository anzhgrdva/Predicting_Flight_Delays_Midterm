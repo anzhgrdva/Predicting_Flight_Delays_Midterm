{
 "cells": [
  {
   "cell_type": "code",
   "execution_count": 1,
   "metadata": {},
   "outputs": [],
   "source": [
    "import pandas as pd\n",
    "import numpy as np\n",
    "import matplotlib.pyplot as plt\n",
    "import seaborn as sns\n",
    "\n",
    "from sklearn.ensemble import RandomForestRegressor\n",
    "from sklearn.model_selection import RandomizedSearchCV\n",
    "\n",
    "from sklearn.model_selection import train_test_split\n",
    "from sklearn.metrics import mean_squared_error, mean_absolute_error, r2_score\n",
    "\n",
    "from sklearn import metrics\n",
    "\n",
    "import pickle"
   ]
  },
  {
   "cell_type": "code",
   "execution_count": 2,
   "metadata": {},
   "outputs": [],
   "source": [
    "# Read from extracted data\n",
    "df = pd.read_csv('../data/train_Jan1-7_scaled_2022-10-29_2127.csv')"
   ]
  },
  {
   "cell_type": "code",
   "execution_count": 3,
   "metadata": {},
   "outputs": [
    {
     "data": {
      "text/html": [
       "<div>\n",
       "<style scoped>\n",
       "    .dataframe tbody tr th:only-of-type {\n",
       "        vertical-align: middle;\n",
       "    }\n",
       "\n",
       "    .dataframe tbody tr th {\n",
       "        vertical-align: top;\n",
       "    }\n",
       "\n",
       "    .dataframe thead th {\n",
       "        text-align: right;\n",
       "    }\n",
       "</style>\n",
       "<table border=\"1\" class=\"dataframe\">\n",
       "  <thead>\n",
       "    <tr style=\"text-align: right;\">\n",
       "      <th></th>\n",
       "      <th>fl_date</th>\n",
       "      <th>mkt_carrier</th>\n",
       "      <th>mkt_carrier_fl_num</th>\n",
       "      <th>origin_airport_id</th>\n",
       "      <th>dest_airport_id</th>\n",
       "      <th>origin_region_Midwest</th>\n",
       "      <th>origin_region_Northeast</th>\n",
       "      <th>origin_region_South</th>\n",
       "      <th>origin_region_West</th>\n",
       "      <th>dest_region_Midwest</th>\n",
       "      <th>...</th>\n",
       "      <th>mean_seats_per_departure</th>\n",
       "      <th>mean_passengers_per_departure</th>\n",
       "      <th>mean_freight_per_departure</th>\n",
       "      <th>mean_mail_per_departure</th>\n",
       "      <th>mean_empty_seats_per_departure</th>\n",
       "      <th>mean_dep_delay_carrier_origin_month</th>\n",
       "      <th>mean_arr_delay_carrier_origin_month</th>\n",
       "      <th>mean_dep_delay_carrier_origin_date_t-1_year_month</th>\n",
       "      <th>mean_arr_delay_carrier_origin_date_t-1_year_month</th>\n",
       "      <th>arr_delay</th>\n",
       "    </tr>\n",
       "  </thead>\n",
       "  <tbody>\n",
       "    <tr>\n",
       "      <th>0</th>\n",
       "      <td>2019-01-06</td>\n",
       "      <td>AA</td>\n",
       "      <td>324</td>\n",
       "      <td>13930</td>\n",
       "      <td>13198</td>\n",
       "      <td>1.0</td>\n",
       "      <td>0.0</td>\n",
       "      <td>0.0</td>\n",
       "      <td>0.0</td>\n",
       "      <td>1.0</td>\n",
       "      <td>...</td>\n",
       "      <td>-0.279990</td>\n",
       "      <td>-1.076595</td>\n",
       "      <td>-0.235296</td>\n",
       "      <td>-0.337765</td>\n",
       "      <td>1.258195</td>\n",
       "      <td>0.892927</td>\n",
       "      <td>1.178806</td>\n",
       "      <td>0.892927</td>\n",
       "      <td>1.178806</td>\n",
       "      <td>0.568429</td>\n",
       "    </tr>\n",
       "    <tr>\n",
       "      <th>1</th>\n",
       "      <td>2019-01-05</td>\n",
       "      <td>UA</td>\n",
       "      <td>467</td>\n",
       "      <td>11042</td>\n",
       "      <td>11292</td>\n",
       "      <td>1.0</td>\n",
       "      <td>0.0</td>\n",
       "      <td>0.0</td>\n",
       "      <td>0.0</td>\n",
       "      <td>0.0</td>\n",
       "      <td>...</td>\n",
       "      <td>0.639417</td>\n",
       "      <td>1.441133</td>\n",
       "      <td>-0.216891</td>\n",
       "      <td>2.048351</td>\n",
       "      <td>-1.361740</td>\n",
       "      <td>-0.424680</td>\n",
       "      <td>-0.617052</td>\n",
       "      <td>-0.424680</td>\n",
       "      <td>-0.617052</td>\n",
       "      <td>-0.521694</td>\n",
       "    </tr>\n",
       "    <tr>\n",
       "      <th>2</th>\n",
       "      <td>2019-01-05</td>\n",
       "      <td>DL</td>\n",
       "      <td>5790</td>\n",
       "      <td>14869</td>\n",
       "      <td>14831</td>\n",
       "      <td>0.0</td>\n",
       "      <td>0.0</td>\n",
       "      <td>0.0</td>\n",
       "      <td>1.0</td>\n",
       "      <td>0.0</td>\n",
       "      <td>...</td>\n",
       "      <td>-0.668184</td>\n",
       "      <td>-0.371240</td>\n",
       "      <td>-0.260367</td>\n",
       "      <td>-0.302468</td>\n",
       "      <td>-0.262767</td>\n",
       "      <td>-0.670868</td>\n",
       "      <td>-0.909440</td>\n",
       "      <td>-0.670868</td>\n",
       "      <td>-0.909440</td>\n",
       "      <td>0.487679</td>\n",
       "    </tr>\n",
       "    <tr>\n",
       "      <th>3</th>\n",
       "      <td>2019-01-04</td>\n",
       "      <td>AS</td>\n",
       "      <td>359</td>\n",
       "      <td>12478</td>\n",
       "      <td>14747</td>\n",
       "      <td>0.0</td>\n",
       "      <td>1.0</td>\n",
       "      <td>0.0</td>\n",
       "      <td>0.0</td>\n",
       "      <td>0.0</td>\n",
       "      <td>...</td>\n",
       "      <td>0.864161</td>\n",
       "      <td>0.800304</td>\n",
       "      <td>-0.263984</td>\n",
       "      <td>2.164388</td>\n",
       "      <td>-0.135828</td>\n",
       "      <td>0.379328</td>\n",
       "      <td>-0.583410</td>\n",
       "      <td>0.379328</td>\n",
       "      <td>-0.583410</td>\n",
       "      <td>-0.400570</td>\n",
       "    </tr>\n",
       "    <tr>\n",
       "      <th>4</th>\n",
       "      <td>2019-01-02</td>\n",
       "      <td>HA</td>\n",
       "      <td>518</td>\n",
       "      <td>12173</td>\n",
       "      <td>12758</td>\n",
       "      <td>0.0</td>\n",
       "      <td>0.0</td>\n",
       "      <td>0.0</td>\n",
       "      <td>1.0</td>\n",
       "      <td>0.0</td>\n",
       "      <td>...</td>\n",
       "      <td>-1.383278</td>\n",
       "      <td>-0.532762</td>\n",
       "      <td>0.053639</td>\n",
       "      <td>-0.341615</td>\n",
       "      <td>-0.894262</td>\n",
       "      <td>-1.027914</td>\n",
       "      <td>-0.031664</td>\n",
       "      <td>-1.027914</td>\n",
       "      <td>-0.031664</td>\n",
       "      <td>-0.239070</td>\n",
       "    </tr>\n",
       "  </tbody>\n",
       "</table>\n",
       "<p>5 rows × 44 columns</p>\n",
       "</div>"
      ],
      "text/plain": [
       "      fl_date mkt_carrier  mkt_carrier_fl_num  origin_airport_id  \\\n",
       "0  2019-01-06          AA                 324              13930   \n",
       "1  2019-01-05          UA                 467              11042   \n",
       "2  2019-01-05          DL                5790              14869   \n",
       "3  2019-01-04          AS                 359              12478   \n",
       "4  2019-01-02          HA                 518              12173   \n",
       "\n",
       "   dest_airport_id  origin_region_Midwest  origin_region_Northeast  \\\n",
       "0            13198                    1.0                      0.0   \n",
       "1            11292                    1.0                      0.0   \n",
       "2            14831                    0.0                      0.0   \n",
       "3            14747                    0.0                      1.0   \n",
       "4            12758                    0.0                      0.0   \n",
       "\n",
       "   origin_region_South  origin_region_West  dest_region_Midwest  ...  \\\n",
       "0                  0.0                 0.0                  1.0  ...   \n",
       "1                  0.0                 0.0                  0.0  ...   \n",
       "2                  0.0                 1.0                  0.0  ...   \n",
       "3                  0.0                 0.0                  0.0  ...   \n",
       "4                  0.0                 1.0                  0.0  ...   \n",
       "\n",
       "   mean_seats_per_departure  mean_passengers_per_departure  \\\n",
       "0                 -0.279990                      -1.076595   \n",
       "1                  0.639417                       1.441133   \n",
       "2                 -0.668184                      -0.371240   \n",
       "3                  0.864161                       0.800304   \n",
       "4                 -1.383278                      -0.532762   \n",
       "\n",
       "   mean_freight_per_departure  mean_mail_per_departure  \\\n",
       "0                   -0.235296                -0.337765   \n",
       "1                   -0.216891                 2.048351   \n",
       "2                   -0.260367                -0.302468   \n",
       "3                   -0.263984                 2.164388   \n",
       "4                    0.053639                -0.341615   \n",
       "\n",
       "   mean_empty_seats_per_departure  mean_dep_delay_carrier_origin_month  \\\n",
       "0                        1.258195                             0.892927   \n",
       "1                       -1.361740                            -0.424680   \n",
       "2                       -0.262767                            -0.670868   \n",
       "3                       -0.135828                             0.379328   \n",
       "4                       -0.894262                            -1.027914   \n",
       "\n",
       "   mean_arr_delay_carrier_origin_month  \\\n",
       "0                             1.178806   \n",
       "1                            -0.617052   \n",
       "2                            -0.909440   \n",
       "3                            -0.583410   \n",
       "4                            -0.031664   \n",
       "\n",
       "   mean_dep_delay_carrier_origin_date_t-1_year_month  \\\n",
       "0                                           0.892927   \n",
       "1                                          -0.424680   \n",
       "2                                          -0.670868   \n",
       "3                                           0.379328   \n",
       "4                                          -1.027914   \n",
       "\n",
       "   mean_arr_delay_carrier_origin_date_t-1_year_month  arr_delay  \n",
       "0                                           1.178806   0.568429  \n",
       "1                                          -0.617052  -0.521694  \n",
       "2                                          -0.909440   0.487679  \n",
       "3                                          -0.583410  -0.400570  \n",
       "4                                          -0.031664  -0.239070  \n",
       "\n",
       "[5 rows x 44 columns]"
      ]
     },
     "execution_count": 3,
     "metadata": {},
     "output_type": "execute_result"
    }
   ],
   "source": [
    "df.head()"
   ]
  },
  {
   "cell_type": "code",
   "execution_count": 4,
   "metadata": {},
   "outputs": [],
   "source": [
    "columns_for_ID =[\n",
    "'fl_date',\n",
    " 'mkt_carrier',\n",
    " 'mkt_carrier_fl_num','origin_airport_id', 'dest_airport_id']\n",
    "\n",
    "df = df.set_index(columns_for_ID)"
   ]
  },
  {
   "cell_type": "code",
   "execution_count": 5,
   "metadata": {},
   "outputs": [],
   "source": [
    "X = df.drop('arr_delay', axis = 1)   # features\n",
    "y = df['arr_delay']    # labels"
   ]
  },
  {
   "cell_type": "code",
   "execution_count": 6,
   "metadata": {},
   "outputs": [
    {
     "name": "stdout",
     "output_type": "stream",
     "text": [
      "(71806, 38)\n",
      "(30775, 38)\n"
     ]
    }
   ],
   "source": [
    "X_train, X_test, y_train, y_test = train_test_split(X, y, test_size=0.3, random_state=42)\n",
    "print(X_train.shape); \n",
    "print(X_test.shape)"
   ]
  },
  {
   "cell_type": "markdown",
   "metadata": {},
   "source": [
    "# Random Forest"
   ]
  },
  {
   "cell_type": "code",
   "execution_count": 7,
   "metadata": {},
   "outputs": [
    {
     "name": "stdout",
     "output_type": "stream",
     "text": [
      "RSME_train:  0.9528740994217348\n",
      "R2_train:  0.08479341976917898\n",
      "MAE_train:  0.6565219791707255\n",
      "RSME_test:  0.9683424514739913\n",
      "R2_test:  0.07918868199899187\n",
      "MAE_train:  0.6632542943493162\n"
     ]
    }
   ],
   "source": [
    "rf = RandomForestRegressor(n_estimators = 300, max_features = 'sqrt', max_depth = 5, random_state = 18)\n",
    "\n",
    "rf.fit(X_train, y_train)\n",
    "\n",
    "y_pred_train = rf.predict(X_train)\n",
    "print('RSME_train: ',np.sqrt(mean_squared_error(y_train, y_pred_train))) \n",
    "print('R2_train: ',r2_score(y_train, y_pred_train))\n",
    "print('MAE_train: ',mean_absolute_error(y_train, y_pred_train))\n",
    "\n",
    "\n",
    "y_pred_test = rf.predict(X_test)\n",
    "print('RSME_test: ',np.sqrt(metrics.mean_squared_error(y_test, y_pred_test))) \n",
    "print('R2_test: ',r2_score(y_test, y_pred_test))\n",
    "print('MAE_train: ',mean_absolute_error(y_test, y_pred_test))"
   ]
  },
  {
   "cell_type": "code",
   "execution_count": null,
   "metadata": {},
   "outputs": [],
   "source": []
  },
  {
   "cell_type": "markdown",
   "metadata": {},
   "source": [
    "#### Random Forest Random Search"
   ]
  },
  {
   "cell_type": "code",
   "execution_count": 8,
   "metadata": {},
   "outputs": [],
   "source": [
    "# Create the random grid\n",
    "param_dist = {\n",
    "    'n_estimators' : [15,100,150, 300],\n",
    "    'max_features' : ['sqrt', 'log2'],\n",
    "    'max_depth' : [5,10,12,15],\n",
    "    'random_state' : [18]\n",
    "}"
   ]
  },
  {
   "cell_type": "code",
   "execution_count": 9,
   "metadata": {},
   "outputs": [
    {
     "name": "stdout",
     "output_type": "stream",
     "text": [
      "Best Score: \n",
      "0.16936028270492248\n"
     ]
    }
   ],
   "source": [
    "# Instantiate RandomizedSearchCV, fit model, and make prediction\n",
    "random_rf = RandomizedSearchCV(RandomForestRegressor(), param_distributions = param_dist)\n",
    "random_rf.fit(X_train, y_train)\n",
    "print('Best Score: ')\n",
    "print(random_rf.best_score_)\n"
   ]
  },
  {
   "cell_type": "code",
   "execution_count": 10,
   "metadata": {},
   "outputs": [],
   "source": [
    "y_pred = random_rf.predict(X_test)\n",
    "df = pd.DataFrame(random_rf.cv_results_)"
   ]
  },
  {
   "cell_type": "code",
   "execution_count": 11,
   "metadata": {},
   "outputs": [
    {
     "data": {
      "text/plain": [
       "{'random_state': 18,\n",
       " 'n_estimators': 300,\n",
       " 'max_features': 'sqrt',\n",
       " 'max_depth': 15}"
      ]
     },
     "metadata": {},
     "output_type": "display_data"
    }
   ],
   "source": [
    "display(random_rf.best_params_)\n",
    "\n",
    "# df.sort_values('rank_test_score', ascending = True).head(3)"
   ]
  },
  {
   "cell_type": "code",
   "execution_count": 12,
   "metadata": {},
   "outputs": [
    {
     "name": "stdout",
     "output_type": "stream",
     "text": [
      "RSME_test:  0.916118622548084\n",
      "R2_test:  0.17583127788343955\n",
      "MAE_test: 0.6236741689196574\n"
     ]
    }
   ],
   "source": [
    "print('RSME_test: ',np.sqrt(metrics.mean_squared_error(y_test, y_pred))) \n",
    "print('R2_test: ',r2_score(y_test, y_pred))\n",
    "print('MAE_test:', mean_absolute_error(y_test, y_pred))"
   ]
  },
  {
   "cell_type": "code",
   "execution_count": null,
   "metadata": {},
   "outputs": [],
   "source": []
  },
  {
   "cell_type": "code",
   "execution_count": null,
   "metadata": {},
   "outputs": [],
   "source": []
  },
  {
   "cell_type": "code",
   "execution_count": 13,
   "metadata": {},
   "outputs": [
    {
     "name": "stdout",
     "output_type": "stream",
     "text": [
      "Random_Forest_2022-10-29_2317.pickle\n"
     ]
    }
   ],
   "source": [
    "# Save the file to CSV\n",
    "from datetime import datetime\n",
    "datetime_now = datetime.now().strftime('%Y-%m-%d_%H%M')\n",
    "filename = f'Random_Forest_{datetime_now}.pickle'\n",
    "print(filename)"
   ]
  },
  {
   "cell_type": "code",
   "execution_count": 14,
   "metadata": {},
   "outputs": [],
   "source": [
    "# Save the model\n",
    "pickle.dump(random_rf,open(filename, 'wb'))"
   ]
  }
 ],
 "metadata": {
  "kernelspec": {
   "display_name": "Python 3.9.13 ('new_env')",
   "language": "python",
   "name": "python3"
  },
  "language_info": {
   "codemirror_mode": {
    "name": "ipython",
    "version": 3
   },
   "file_extension": ".py",
   "mimetype": "text/x-python",
   "name": "python",
   "nbconvert_exporter": "python",
   "pygments_lexer": "ipython3",
   "version": "3.9.13"
  },
  "orig_nbformat": 4,
  "vscode": {
   "interpreter": {
    "hash": "3c229a7bb837f7622ff6522438b225aa15e7a80f2ac0a1c0d5851fa7ebe2f25d"
   }
  }
 },
 "nbformat": 4,
 "nbformat_minor": 2
}
