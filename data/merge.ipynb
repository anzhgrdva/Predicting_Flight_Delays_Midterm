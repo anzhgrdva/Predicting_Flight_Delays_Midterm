{
 "cells": [
  {
   "cell_type": "code",
   "execution_count": 1,
   "metadata": {},
   "outputs": [],
   "source": [
    "import pandas as pd\n",
    "import numpy as np"
   ]
  },
  {
   "cell_type": "markdown",
   "metadata": {},
   "source": [
    "#### Add cluster_km to data for modelling"
   ]
  },
  {
   "cell_type": "code",
   "execution_count": 5,
   "metadata": {},
   "outputs": [],
   "source": [
    "# Read from extracted data\n",
    "ana = pd.read_csv('flights_cleaned_no_outliers_2022-10-26_1451.csv')"
   ]
  },
  {
   "cell_type": "code",
   "execution_count": 8,
   "metadata": {},
   "outputs": [],
   "source": [
    "# Take copy to measure data loss after clean-up\n",
    "data_ana = ana.copy()"
   ]
  },
  {
   "cell_type": "code",
   "execution_count": 9,
   "metadata": {},
   "outputs": [],
   "source": [
    "# Read from extracted data\n",
    "silvia = pd.read_csv('flights_silvia_2022-10-26_2220.csv')"
   ]
  },
  {
   "cell_type": "code",
   "execution_count": 10,
   "metadata": {},
   "outputs": [],
   "source": [
    "# Take copy to measure data loss after clean-up\n",
    "data_silvia = silvia.copy()"
   ]
  },
  {
   "cell_type": "code",
   "execution_count": 11,
   "metadata": {},
   "outputs": [
    {
     "data": {
      "text/plain": [
       "Index(['Unnamed: 0', 'crs_elapsed_time', 'air_time', 'distance',\n",
       "       'mean_dep_delay_carrier_origin_month',\n",
       "       'mean_arr_delay_carrier_origin_month',\n",
       "       'mean_dep_delay_carrier_origin_week',\n",
       "       'mean_arr_delay_carrier_origin_week',\n",
       "       'mean_dep_delay_carrier_origin_date',\n",
       "       'mean_arr_delay_carrier_origin_date',\n",
       "       'mean_dep_delay_carrier_origin_date_t-1_week',\n",
       "       'mean_arr_delay_carrier_origin_date_t-1_week',\n",
       "       'mean_dep_delay_carrier_origin_date_t-1_week_week_number',\n",
       "       'mean_arr_delay_carrier_origin_date_t-1_week_week_number',\n",
       "       'origin_region_Midwest', 'origin_region_Northeast',\n",
       "       'origin_region_South', 'origin_region_West', 'dest_region_Midwest',\n",
       "       'dest_region_Northeast', 'dest_region_South', 'dest_region_West',\n",
       "       'arr_hrs_ctg_Afternoon', 'arr_hrs_ctg_Evening', 'arr_hrs_ctg_Morning',\n",
       "       'arr_hrs_ctg_Night', 'dep_hrs_ctg_Afternoon', 'dep_hrs_ctg_Evening',\n",
       "       'dep_hrs_ctg_Morning', 'dep_hrs_ctg_Night', 'day_of_week_Friday',\n",
       "       'day_of_week_Monday', 'day_of_week_Saturday', 'day_of_week_Sunday',\n",
       "       'day_of_week_Thursday', 'day_of_week_Tuesday', 'day_of_week_Wednesday',\n",
       "       'haul_length_long', 'haul_length_medium', 'haul_length_short',\n",
       "       'cluster_km'],\n",
       "      dtype='object')"
      ]
     },
     "execution_count": 11,
     "metadata": {},
     "output_type": "execute_result"
    }
   ],
   "source": [
    "data_silvia.columns"
   ]
  },
  {
   "cell_type": "code",
   "execution_count": 15,
   "metadata": {},
   "outputs": [],
   "source": [
    "column = data_silvia['cluster_km']"
   ]
  },
  {
   "cell_type": "code",
   "execution_count": 17,
   "metadata": {},
   "outputs": [],
   "source": [
    "data_ana = data_ana.join(column)"
   ]
  },
  {
   "cell_type": "code",
   "execution_count": 18,
   "metadata": {},
   "outputs": [
    {
     "data": {
      "text/plain": [
       "(563880, 52)"
      ]
     },
     "execution_count": 18,
     "metadata": {},
     "output_type": "execute_result"
    }
   ],
   "source": [
    "data_ana.shape"
   ]
  },
  {
   "cell_type": "code",
   "execution_count": 19,
   "metadata": {},
   "outputs": [
    {
     "data": {
      "text/plain": [
       "Index(['mkt_carrier_fl_num', 'op_carrier_fl_num', 'origin_airport_id',\n",
       "       'dest_airport_id', 'dep_delay', 'arr_delay', 'crs_dep_time',\n",
       "       'crs_arr_time', 'crs_elapsed_time', 'actual_elapsed_time', 'air_time',\n",
       "       'distance', 'month', 'fl_date_year', 'fl_date_week_number',\n",
       "       'mean_dep_delay_carrier_origin_month',\n",
       "       'mean_arr_delay_carrier_origin_month',\n",
       "       'mean_dep_delay_carrier_origin_week',\n",
       "       'mean_arr_delay_carrier_origin_week',\n",
       "       'mean_dep_delay_carrier_origin_date',\n",
       "       'mean_arr_delay_carrier_origin_date',\n",
       "       'mean_dep_delay_carrier_origin_date_t-1_week',\n",
       "       'mean_arr_delay_carrier_origin_date_t-1_week',\n",
       "       'mean_dep_delay_carrier_origin_date_t-1_week_week_number',\n",
       "       'mean_arr_delay_carrier_origin_date_t-1_week_week_number',\n",
       "       'origin_region_Midwest', 'origin_region_Northeast',\n",
       "       'origin_region_South', 'origin_region_West', 'dest_region_Midwest',\n",
       "       'dest_region_Northeast', 'dest_region_South', 'dest_region_West',\n",
       "       'arr_hrs_ctg_Afternoon', 'arr_hrs_ctg_Evening', 'arr_hrs_ctg_Morning',\n",
       "       'arr_hrs_ctg_Night', 'dep_hrs_ctg_Afternoon', 'dep_hrs_ctg_Evening',\n",
       "       'dep_hrs_ctg_Morning', 'dep_hrs_ctg_Night', 'day_of_week_Friday',\n",
       "       'day_of_week_Monday', 'day_of_week_Saturday', 'day_of_week_Sunday',\n",
       "       'day_of_week_Thursday', 'day_of_week_Tuesday', 'day_of_week_Wednesday',\n",
       "       'haul_length_long', 'haul_length_medium', 'haul_length_short',\n",
       "       'cluster_km'],\n",
       "      dtype='object')"
      ]
     },
     "execution_count": 19,
     "metadata": {},
     "output_type": "execute_result"
    }
   ],
   "source": [
    "data_ana.columns"
   ]
  },
  {
   "cell_type": "code",
   "execution_count": 20,
   "metadata": {},
   "outputs": [
    {
     "name": "stdout",
     "output_type": "stream",
     "text": [
      "flights_modeling_2022-10-26_2322.csv\n"
     ]
    }
   ],
   "source": [
    "# Save the file to CSV\n",
    "from datetime import datetime\n",
    "datetime_now = datetime.now().strftime('%Y-%m-%d_%H%M')\n",
    "filename = f'flights_modeling_{datetime_now}.csv'\n",
    "print(filename)"
   ]
  },
  {
   "cell_type": "code",
   "execution_count": 21,
   "metadata": {},
   "outputs": [],
   "source": [
    "# Save pd as csv\n",
    "data_ana.to_csv('flights_modeling_2022-10-26_2322.csv', index=False)"
   ]
  },
  {
   "cell_type": "code",
   "execution_count": null,
   "metadata": {},
   "outputs": [],
   "source": []
  },
  {
   "cell_type": "markdown",
   "metadata": {},
   "source": [
    "#### Add PCA to data for modelling where cluster_km is already in"
   ]
  },
  {
   "cell_type": "code",
   "execution_count": 2,
   "metadata": {},
   "outputs": [],
   "source": [
    "# Read from extracted data\n",
    "data = pd.read_csv('flights_modeling_2022-10-26_2322.csv')"
   ]
  },
  {
   "cell_type": "code",
   "execution_count": 9,
   "metadata": {},
   "outputs": [
    {
     "data": {
      "text/plain": [
       "(563880, 52)"
      ]
     },
     "execution_count": 9,
     "metadata": {},
     "output_type": "execute_result"
    }
   ],
   "source": [
    "data.shape"
   ]
  },
  {
   "cell_type": "code",
   "execution_count": 18,
   "metadata": {},
   "outputs": [],
   "source": [
    "pca_data = pd.read_csv('pca_2022-10-27_1056.csv')"
   ]
  },
  {
   "cell_type": "code",
   "execution_count": 19,
   "metadata": {},
   "outputs": [
    {
     "data": {
      "text/plain": [
       "Index(['Unnamed: 0', '0', '1', '2', '3', '4', '5', '6', '7', '8', '9', '10',\n",
       "       '11', '12', '13', '14', '15', '16', '17', '18', '19', '20', '21', '22',\n",
       "       '23', '24', '25', '26', '27', '28', '29', '30', '31', '32', '33', '34',\n",
       "       '35', '36', '37', '38'],\n",
       "      dtype='object')"
      ]
     },
     "execution_count": 19,
     "metadata": {},
     "output_type": "execute_result"
    }
   ],
   "source": [
    "pca_data.columns"
   ]
  },
  {
   "cell_type": "code",
   "execution_count": 8,
   "metadata": {},
   "outputs": [
    {
     "data": {
      "text/plain": [
       "(563880, 40)"
      ]
     },
     "execution_count": 8,
     "metadata": {},
     "output_type": "execute_result"
    }
   ],
   "source": [
    "pca_data.shape"
   ]
  },
  {
   "cell_type": "code",
   "execution_count": 14,
   "metadata": {},
   "outputs": [
    {
     "data": {
      "text/html": [
       "<div>\n",
       "<style scoped>\n",
       "    .dataframe tbody tr th:only-of-type {\n",
       "        vertical-align: middle;\n",
       "    }\n",
       "\n",
       "    .dataframe tbody tr th {\n",
       "        vertical-align: top;\n",
       "    }\n",
       "\n",
       "    .dataframe thead th {\n",
       "        text-align: right;\n",
       "    }\n",
       "</style>\n",
       "<table border=\"1\" class=\"dataframe\">\n",
       "  <thead>\n",
       "    <tr style=\"text-align: right;\">\n",
       "      <th></th>\n",
       "      <th>Unnamed: 0</th>\n",
       "      <th>0</th>\n",
       "      <th>1</th>\n",
       "      <th>2</th>\n",
       "      <th>3</th>\n",
       "      <th>4</th>\n",
       "      <th>5</th>\n",
       "      <th>6</th>\n",
       "      <th>7</th>\n",
       "      <th>8</th>\n",
       "      <th>...</th>\n",
       "      <th>29</th>\n",
       "      <th>30</th>\n",
       "      <th>31</th>\n",
       "      <th>32</th>\n",
       "      <th>33</th>\n",
       "      <th>34</th>\n",
       "      <th>35</th>\n",
       "      <th>36</th>\n",
       "      <th>37</th>\n",
       "      <th>38</th>\n",
       "    </tr>\n",
       "  </thead>\n",
       "  <tbody>\n",
       "    <tr>\n",
       "      <th>0</th>\n",
       "      <td>0</td>\n",
       "      <td>-415.722878</td>\n",
       "      <td>4.787506</td>\n",
       "      <td>2.366434</td>\n",
       "      <td>1.953400</td>\n",
       "      <td>1.698777</td>\n",
       "      <td>-0.520627</td>\n",
       "      <td>-0.299450</td>\n",
       "      <td>-0.381755</td>\n",
       "      <td>0.525053</td>\n",
       "      <td>...</td>\n",
       "      <td>1.264732e-15</td>\n",
       "      <td>1.566174e-15</td>\n",
       "      <td>-2.754175e-15</td>\n",
       "      <td>-1.280779e-16</td>\n",
       "      <td>-1.112795e-15</td>\n",
       "      <td>9.243211e-16</td>\n",
       "      <td>-4.457624e-16</td>\n",
       "      <td>-1.085710e-15</td>\n",
       "      <td>-1.112086e-16</td>\n",
       "      <td>3.519826e-13</td>\n",
       "    </tr>\n",
       "    <tr>\n",
       "      <th>1</th>\n",
       "      <td>1</td>\n",
       "      <td>-546.225766</td>\n",
       "      <td>3.146570</td>\n",
       "      <td>3.056611</td>\n",
       "      <td>-0.583715</td>\n",
       "      <td>1.067324</td>\n",
       "      <td>-0.497392</td>\n",
       "      <td>-0.798764</td>\n",
       "      <td>-0.430385</td>\n",
       "      <td>-0.406010</td>\n",
       "      <td>...</td>\n",
       "      <td>-5.255027e-16</td>\n",
       "      <td>1.011063e-15</td>\n",
       "      <td>-3.170508e-15</td>\n",
       "      <td>1.494779e-16</td>\n",
       "      <td>-1.667906e-15</td>\n",
       "      <td>1.049221e-15</td>\n",
       "      <td>-1.001741e-15</td>\n",
       "      <td>-1.543352e-15</td>\n",
       "      <td>-3.750492e-16</td>\n",
       "      <td>1.286994e-13</td>\n",
       "    </tr>\n",
       "    <tr>\n",
       "      <th>2</th>\n",
       "      <td>2</td>\n",
       "      <td>-598.353811</td>\n",
       "      <td>11.033951</td>\n",
       "      <td>-0.045223</td>\n",
       "      <td>-1.379402</td>\n",
       "      <td>0.686631</td>\n",
       "      <td>-0.957482</td>\n",
       "      <td>-0.793347</td>\n",
       "      <td>-0.512247</td>\n",
       "      <td>-0.367431</td>\n",
       "      <td>...</td>\n",
       "      <td>2.724701e-16</td>\n",
       "      <td>-1.292650e-15</td>\n",
       "      <td>-2.726419e-15</td>\n",
       "      <td>-7.387005e-16</td>\n",
       "      <td>-1.980156e-15</td>\n",
       "      <td>9.659545e-16</td>\n",
       "      <td>-1.168275e-15</td>\n",
       "      <td>-1.578050e-15</td>\n",
       "      <td>-4.652548e-16</td>\n",
       "      <td>-5.815110e-14</td>\n",
       "    </tr>\n",
       "    <tr>\n",
       "      <th>3</th>\n",
       "      <td>3</td>\n",
       "      <td>-594.468310</td>\n",
       "      <td>-15.622597</td>\n",
       "      <td>-4.296403</td>\n",
       "      <td>1.637790</td>\n",
       "      <td>-2.217890</td>\n",
       "      <td>-0.972894</td>\n",
       "      <td>-0.717999</td>\n",
       "      <td>-0.478866</td>\n",
       "      <td>-0.505360</td>\n",
       "      <td>...</td>\n",
       "      <td>-1.993747e-16</td>\n",
       "      <td>-1.403672e-15</td>\n",
       "      <td>-2.948464e-15</td>\n",
       "      <td>-1.835890e-16</td>\n",
       "      <td>-3.104257e-15</td>\n",
       "      <td>-3.108020e-16</td>\n",
       "      <td>-2.417276e-15</td>\n",
       "      <td>-1.476569e-15</td>\n",
       "      <td>-2.206050e-15</td>\n",
       "      <td>-3.869617e-14</td>\n",
       "    </tr>\n",
       "    <tr>\n",
       "      <th>4</th>\n",
       "      <td>4</td>\n",
       "      <td>-459.840235</td>\n",
       "      <td>-22.123282</td>\n",
       "      <td>-8.191784</td>\n",
       "      <td>3.129288</td>\n",
       "      <td>2.367969</td>\n",
       "      <td>0.918942</td>\n",
       "      <td>-0.248884</td>\n",
       "      <td>-0.424236</td>\n",
       "      <td>0.458903</td>\n",
       "      <td>...</td>\n",
       "      <td>7.651316e-16</td>\n",
       "      <td>1.090067e-16</td>\n",
       "      <td>-3.364797e-15</td>\n",
       "      <td>5.935671e-16</td>\n",
       "      <td>-3.055685e-15</td>\n",
       "      <td>-3.454965e-16</td>\n",
       "      <td>-2.227323e-15</td>\n",
       "      <td>-1.253555e-15</td>\n",
       "      <td>-2.959841e-15</td>\n",
       "      <td>1.797513e-13</td>\n",
       "    </tr>\n",
       "  </tbody>\n",
       "</table>\n",
       "<p>5 rows × 40 columns</p>\n",
       "</div>"
      ],
      "text/plain": [
       "   Unnamed: 0           0          1         2         3         4         5  \\\n",
       "0           0 -415.722878   4.787506  2.366434  1.953400  1.698777 -0.520627   \n",
       "1           1 -546.225766   3.146570  3.056611 -0.583715  1.067324 -0.497392   \n",
       "2           2 -598.353811  11.033951 -0.045223 -1.379402  0.686631 -0.957482   \n",
       "3           3 -594.468310 -15.622597 -4.296403  1.637790 -2.217890 -0.972894   \n",
       "4           4 -459.840235 -22.123282 -8.191784  3.129288  2.367969  0.918942   \n",
       "\n",
       "          6         7         8  ...            29            30  \\\n",
       "0 -0.299450 -0.381755  0.525053  ...  1.264732e-15  1.566174e-15   \n",
       "1 -0.798764 -0.430385 -0.406010  ... -5.255027e-16  1.011063e-15   \n",
       "2 -0.793347 -0.512247 -0.367431  ...  2.724701e-16 -1.292650e-15   \n",
       "3 -0.717999 -0.478866 -0.505360  ... -1.993747e-16 -1.403672e-15   \n",
       "4 -0.248884 -0.424236  0.458903  ...  7.651316e-16  1.090067e-16   \n",
       "\n",
       "             31            32            33            34            35  \\\n",
       "0 -2.754175e-15 -1.280779e-16 -1.112795e-15  9.243211e-16 -4.457624e-16   \n",
       "1 -3.170508e-15  1.494779e-16 -1.667906e-15  1.049221e-15 -1.001741e-15   \n",
       "2 -2.726419e-15 -7.387005e-16 -1.980156e-15  9.659545e-16 -1.168275e-15   \n",
       "3 -2.948464e-15 -1.835890e-16 -3.104257e-15 -3.108020e-16 -2.417276e-15   \n",
       "4 -3.364797e-15  5.935671e-16 -3.055685e-15 -3.454965e-16 -2.227323e-15   \n",
       "\n",
       "             36            37            38  \n",
       "0 -1.085710e-15 -1.112086e-16  3.519826e-13  \n",
       "1 -1.543352e-15 -3.750492e-16  1.286994e-13  \n",
       "2 -1.578050e-15 -4.652548e-16 -5.815110e-14  \n",
       "3 -1.476569e-15 -2.206050e-15 -3.869617e-14  \n",
       "4 -1.253555e-15 -2.959841e-15  1.797513e-13  \n",
       "\n",
       "[5 rows x 40 columns]"
      ]
     },
     "execution_count": 14,
     "metadata": {},
     "output_type": "execute_result"
    }
   ],
   "source": [
    "pca_data.head()"
   ]
  },
  {
   "cell_type": "code",
   "execution_count": 20,
   "metadata": {},
   "outputs": [],
   "source": [
    "pca_data = pca_data[['0', '1', '2', '3', '4', '5', '6', '7', '8', '9', '10',\n",
    "       '11', '12', '13', '14', '15', '16', '17', '18', '19', '20', '21', '22',\n",
    "       '23', '24', '25', '26', '27', '28', '29', '30', '31', '32', '33', '34',\n",
    "       '35', '36', '37', '38']]"
   ]
  },
  {
   "cell_type": "code",
   "execution_count": 21,
   "metadata": {},
   "outputs": [
    {
     "data": {
      "text/plain": [
       "Index(['0', '1', '2', '3', '4', '5', '6', '7', '8', '9', '10', '11', '12',\n",
       "       '13', '14', '15', '16', '17', '18', '19', '20', '21', '22', '23', '24',\n",
       "       '25', '26', '27', '28', '29', '30', '31', '32', '33', '34', '35', '36',\n",
       "       '37', '38'],\n",
       "      dtype='object')"
      ]
     },
     "execution_count": 21,
     "metadata": {},
     "output_type": "execute_result"
    }
   ],
   "source": [
    "pca_data.columns"
   ]
  },
  {
   "cell_type": "code",
   "execution_count": 23,
   "metadata": {},
   "outputs": [],
   "source": [
    "data = data.join(pca_data)"
   ]
  },
  {
   "cell_type": "code",
   "execution_count": 24,
   "metadata": {},
   "outputs": [
    {
     "data": {
      "text/plain": [
       "(563880, 91)"
      ]
     },
     "execution_count": 24,
     "metadata": {},
     "output_type": "execute_result"
    }
   ],
   "source": [
    "data.shape"
   ]
  },
  {
   "cell_type": "code",
   "execution_count": 25,
   "metadata": {},
   "outputs": [
    {
     "name": "stdout",
     "output_type": "stream",
     "text": [
      "flights_modeling_2022-10-27_1315.csv\n"
     ]
    }
   ],
   "source": [
    "# Save the file to CSV\n",
    "from datetime import datetime\n",
    "datetime_now = datetime.now().strftime('%Y-%m-%d_%H%M')\n",
    "filename = f'flights_modeling_{datetime_now}.csv'\n",
    "print(filename)"
   ]
  },
  {
   "cell_type": "code",
   "execution_count": 27,
   "metadata": {},
   "outputs": [],
   "source": [
    "# Save pd as csv\n",
    "data.to_csv('flights_modeling_2022-10-27_1315.csv', index=False)"
   ]
  },
  {
   "cell_type": "code",
   "execution_count": null,
   "metadata": {},
   "outputs": [],
   "source": []
  }
 ],
 "metadata": {
  "kernelspec": {
   "display_name": "Python 3.9.13 ('new_env')",
   "language": "python",
   "name": "python3"
  },
  "language_info": {
   "codemirror_mode": {
    "name": "ipython",
    "version": 3
   },
   "file_extension": ".py",
   "mimetype": "text/x-python",
   "name": "python",
   "nbconvert_exporter": "python",
   "pygments_lexer": "ipython3",
   "version": "3.9.13"
  },
  "orig_nbformat": 4,
  "vscode": {
   "interpreter": {
    "hash": "3c229a7bb837f7622ff6522438b225aa15e7a80f2ac0a1c0d5851fa7ebe2f25d"
   }
  }
 },
 "nbformat": 4,
 "nbformat_minor": 2
}
