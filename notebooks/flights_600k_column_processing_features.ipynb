{
 "cells": [
  {
   "cell_type": "code",
   "execution_count": 23,
   "metadata": {},
   "outputs": [],
   "source": [
    "import numpy as np\n",
    "import pandas as pd\n",
    "from datetime import datetime\n",
    "import matplotlib.pyplot as plt\n",
    "import seaborn as sns"
   ]
  },
  {
   "cell_type": "code",
   "execution_count": 24,
   "metadata": {},
   "outputs": [],
   "source": [
    "# Read from extracted data\n",
    "flights_df_raw = pd.read_csv(\"../data/raw/flights_600k_raw.csv\")"
   ]
  },
  {
   "cell_type": "code",
   "execution_count": 25,
   "metadata": {},
   "outputs": [],
   "source": [
    "# Take copy to measure data loss after clean-up\n",
    "flights_df = flights_df_raw.copy()"
   ]
  },
  {
   "cell_type": "code",
   "execution_count": 26,
   "metadata": {},
   "outputs": [
    {
     "data": {
      "text/plain": [
       "Index(['mkt_carrier', 'mkt_carrier_fl_num', 'fl_date', 'branded_code_share',\n",
       "       'op_unique_carrier', 'op_carrier_fl_num', 'origin_airport_id',\n",
       "       'origin_city_name', 'dest_airport_id', 'dest_city_name', 'crs_dep_time',\n",
       "       'dep_time', 'dep_delay', 'taxi_out', 'taxi_in', 'crs_arr_time',\n",
       "       'arr_time', 'arr_delay', 'cancelled', 'cancellation_code', 'diverted',\n",
       "       'crs_elapsed_time', 'actual_elapsed_time', 'air_time', 'distance',\n",
       "       'carrier_delay', 'weather_delay', 'nas_delay', 'security_delay',\n",
       "       'late_aircraft_delay', 'first_dep_time', 'total_add_gtime',\n",
       "       'longest_add_gtime'],\n",
       "      dtype='object')"
      ]
     },
     "execution_count": 26,
     "metadata": {},
     "output_type": "execute_result"
    }
   ],
   "source": [
    "flights_df.columns"
   ]
  },
  {
   "cell_type": "markdown",
   "metadata": {},
   "source": [
    "#### Group states into four regions\n"
   ]
  },
  {
   "cell_type": "code",
   "execution_count": 27,
   "metadata": {},
   "outputs": [],
   "source": [
    "regions = {\n",
    "    'WA': 'West',\n",
    "    'OR': 'West',\n",
    "    'ID': 'West',\n",
    "    'MT': 'West',\n",
    "    'WY': 'West',\n",
    "    'CA': 'West',\n",
    "    'NV': 'West',\n",
    "    'UT': 'West',\n",
    "    'AZ': 'West',\n",
    "    'CO': 'West',\n",
    "    'NM': 'West',\n",
    "    'HI': 'West',\n",
    "    'AK': 'West',\n",
    "    \n",
    "    'ND': 'Midwest',\n",
    "    'SD': 'Midwest',\n",
    "    'NE': 'Midwest',\n",
    "    'KS': 'Midwest',\n",
    "    'MN': 'Midwest',\n",
    "    'IA': 'Midwest',\n",
    "    'MO': 'Midwest',\n",
    "    'WI': 'Midwest',\n",
    "    'IL': 'Midwest',\n",
    "    'IN': 'Midwest',\n",
    "    'MI': 'Midwest',\n",
    "    'OH': 'Midwest',\n",
    "\n",
    "    'OK': 'South',\n",
    "    'TX': 'South',\n",
    "    'AR': 'South',\n",
    "    'LA': 'South',\n",
    "    'MS': 'South',\n",
    "    'AL': 'South',\n",
    "    'TN': 'South',\n",
    "    'KY': 'South',\n",
    "    'WV': 'South',\n",
    "    'DC': 'South',\n",
    "    'VA': 'South',\n",
    "    'DE': 'South',\n",
    "    'MD': 'South',\n",
    "    'NC': 'South',\n",
    "    'SC': 'South',\n",
    "    'GA': 'South',\n",
    "    'FL': 'South',\n",
    "\n",
    "    'PA': 'Northeast',\n",
    "    'NY': 'Northeast',\n",
    "    'VT': 'Northeast',\n",
    "    'ME': 'Northeast',\n",
    "    'NH': 'Northeast',\n",
    "    'MA': 'Northeast',\n",
    "    'CT': 'Northeast',\n",
    "    'RI': 'Northeast',\n",
    "    'NJ': 'Northeast'\n",
    "    }"
   ]
  },
  {
   "cell_type": "markdown",
   "metadata": {},
   "source": [
    "## Create new columns"
   ]
  },
  {
   "cell_type": "markdown",
   "metadata": {},
   "source": [
    "### 1. Split cities and states. Group states into four regions - 'West', 'Midwest', 'Northeast', 'South'"
   ]
  },
  {
   "cell_type": "code",
   "execution_count": 28,
   "metadata": {},
   "outputs": [],
   "source": [
    "# Split City and State \n",
    "flights_df[['origin_city', 'origin_state']] = flights_df['origin_city_name'].str.split(\", \",expand=True,) \n",
    "flights_df[['dest_city', 'dest_state']] = flights_df['dest_city_name'].str.split(\", \",expand=True,) "
   ]
  },
  {
   "cell_type": "code",
   "execution_count": 29,
   "metadata": {},
   "outputs": [],
   "source": [
    "flights_df=flights_df.replace({\"origin_state\": regions})\n",
    "flights_df=flights_df.replace({\"dest_state\": regions})"
   ]
  },
  {
   "cell_type": "markdown",
   "metadata": {},
   "source": [
    "### 2. Extract day, month, and year"
   ]
  },
  {
   "cell_type": "code",
   "execution_count": 30,
   "metadata": {},
   "outputs": [],
   "source": [
    "flights_df['day'] = pd.DatetimeIndex(flights_df['fl_date']).day\n",
    "flights_df['month'] = pd.DatetimeIndex(flights_df['fl_date']).month\n",
    "flights_df['year'] = pd.DatetimeIndex(flights_df['fl_date']).year"
   ]
  },
  {
   "cell_type": "markdown",
   "metadata": {},
   "source": [
    "### 3. Four categories of flight time - 'Morning', 'Afternon', 'Evening', and 'Night'"
   ]
  },
  {
   "cell_type": "code",
   "execution_count": 31,
   "metadata": {},
   "outputs": [],
   "source": [
    "# Converting time into 24 hours\n",
    "flights_df['crs_arr_hrs'] = (flights_df['crs_arr_time']/100).astype(int)\n",
    "flights_df['crs_dep_hrs'] = (flights_df['crs_dep_time']/100).astype(int)"
   ]
  },
  {
   "cell_type": "code",
   "execution_count": 32,
   "metadata": {},
   "outputs": [],
   "source": [
    "# Creating bins & categories for time\n",
    "bin_time = [0,5,12,16,22]\n",
    "catg_time = ['Morning','Afternoon','Evening', 'Night']\n",
    "\n",
    "# Departure hours\n",
    "dep_hrs_catg = flights_df['crs_dep_hrs']\n",
    "flights_df['dep_hrs_catg'] = pd.cut(dep_hrs_catg, bin_time, labels=catg_time)"
   ]
  },
  {
   "cell_type": "code",
   "execution_count": null,
   "metadata": {},
   "outputs": [],
   "source": []
  },
  {
   "cell_type": "markdown",
   "metadata": {},
   "source": [
    "### 4. Day of the week (where Monday is 0)"
   ]
  },
  {
   "cell_type": "code",
   "execution_count": 33,
   "metadata": {},
   "outputs": [
    {
     "data": {
      "text/plain": [
       "'2019-03-08'"
      ]
     },
     "execution_count": 33,
     "metadata": {},
     "output_type": "execute_result"
    }
   ],
   "source": [
    "flights_df['fl_date'][0]"
   ]
  },
  {
   "cell_type": "code",
   "execution_count": 34,
   "metadata": {},
   "outputs": [],
   "source": [
    "# Conver object to datatime format\n",
    "flights_df['fl_date'] = pd.to_datetime(flights_df['fl_date'])"
   ]
  },
  {
   "cell_type": "code",
   "execution_count": 35,
   "metadata": {},
   "outputs": [],
   "source": [
    "# Convert datetime column/series to day of the week\n",
    "flights_df['day_of_week'] = flights_df['fl_date'].dt.weekday"
   ]
  },
  {
   "cell_type": "code",
   "execution_count": 36,
   "metadata": {},
   "outputs": [],
   "source": [
    "# Replace day numbers with day names\n",
    "flights_df = flights_df.replace({'day_of_week' : { \n",
    "                                                    0 : 'Monday', \n",
    "                                                    1 : 'Tuesday', \n",
    "                                                    2 : 'Wednesday', \n",
    "                                                    3: 'Thursday', \n",
    "                                                    4: 'Friday', \n",
    "                                                    5: 'Saturday', \n",
    "                                                    6: 'Sunday'}})"
   ]
  },
  {
   "cell_type": "code",
   "execution_count": null,
   "metadata": {},
   "outputs": [],
   "source": [
    "# To get the name of the day of the week \n",
    "# print(calendar.day_name[my_date.weekday()])"
   ]
  },
  {
   "cell_type": "markdown",
   "metadata": {},
   "source": [
    "### 5. Day of year"
   ]
  },
  {
   "cell_type": "code",
   "execution_count": 37,
   "metadata": {},
   "outputs": [],
   "source": [
    "# Convert datetime column/series to year\n",
    "flights_df['day_of_year'] = flights_df['fl_date'].dt.day_of_year"
   ]
  },
  {
   "cell_type": "markdown",
   "metadata": {},
   "source": [
    "### 6. Week of year"
   ]
  },
  {
   "cell_type": "code",
   "execution_count": 38,
   "metadata": {},
   "outputs": [],
   "source": [
    "# Convert datetime column/series to week of year\n",
    "flights_df['week_of_year'] = flights_df['fl_date'].dt.isocalendar().week"
   ]
  },
  {
   "cell_type": "markdown",
   "metadata": {},
   "source": [
    "### Check"
   ]
  },
  {
   "cell_type": "code",
   "execution_count": 39,
   "metadata": {},
   "outputs": [
    {
     "data": {
      "text/plain": [
       "(600000, 46)"
      ]
     },
     "execution_count": 39,
     "metadata": {},
     "output_type": "execute_result"
    }
   ],
   "source": [
    "flights_df.shape"
   ]
  },
  {
   "cell_type": "code",
   "execution_count": 40,
   "metadata": {},
   "outputs": [
    {
     "data": {
      "text/plain": [
       "Index(['mkt_carrier', 'mkt_carrier_fl_num', 'fl_date', 'branded_code_share',\n",
       "       'op_unique_carrier', 'op_carrier_fl_num', 'origin_airport_id',\n",
       "       'origin_city_name', 'dest_airport_id', 'dest_city_name', 'crs_dep_time',\n",
       "       'dep_time', 'dep_delay', 'taxi_out', 'taxi_in', 'crs_arr_time',\n",
       "       'arr_time', 'arr_delay', 'cancelled', 'cancellation_code', 'diverted',\n",
       "       'crs_elapsed_time', 'actual_elapsed_time', 'air_time', 'distance',\n",
       "       'carrier_delay', 'weather_delay', 'nas_delay', 'security_delay',\n",
       "       'late_aircraft_delay', 'first_dep_time', 'total_add_gtime',\n",
       "       'longest_add_gtime', 'origin_city', 'origin_state', 'dest_city',\n",
       "       'dest_state', 'day', 'month', 'year', 'crs_arr_hrs', 'crs_dep_hrs',\n",
       "       'dep_hrs_catg', 'day_of_week', 'day_of_year', 'week_of_year'],\n",
       "      dtype='object')"
      ]
     },
     "execution_count": 40,
     "metadata": {},
     "output_type": "execute_result"
    }
   ],
   "source": [
    "flights_df.columns"
   ]
  },
  {
   "cell_type": "markdown",
   "metadata": {},
   "source": [
    "### Save"
   ]
  },
  {
   "cell_type": "code",
   "execution_count": null,
   "metadata": {},
   "outputs": [],
   "source": [
    "# Save pd as csv\n",
    "flights_df.to_csv('flights_before_cleaning_v1.csv', index=False)"
   ]
  }
 ],
 "metadata": {
  "kernelspec": {
   "display_name": "Python 3.9.13 ('new_env')",
   "language": "python",
   "name": "python3"
  },
  "language_info": {
   "codemirror_mode": {
    "name": "ipython",
    "version": 3
   },
   "file_extension": ".py",
   "mimetype": "text/x-python",
   "name": "python",
   "nbconvert_exporter": "python",
   "pygments_lexer": "ipython3",
   "version": "3.9.13"
  },
  "orig_nbformat": 4,
  "vscode": {
   "interpreter": {
    "hash": "3c229a7bb837f7622ff6522438b225aa15e7a80f2ac0a1c0d5851fa7ebe2f25d"
   }
  }
 },
 "nbformat": 4,
 "nbformat_minor": 2
}
